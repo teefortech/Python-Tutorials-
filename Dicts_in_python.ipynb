{
 "cells": [
  {
   "cell_type": "markdown",
   "id": "373747f4-987d-4e44-b53c-d5e0604b3cea",
   "metadata": {},
   "source": [
    "# Dictionaries in Python\n",
    "> By\n",
    "### Tony Nwuzor\n",
    "_____________________________________"
   ]
  },
  {
   "cell_type": "markdown",
   "id": "05745ca1-1c39-4576-90e3-ce71aad9a1ce",
   "metadata": {},
   "source": [
    "## 1. What is a Dictionary?\n",
    "A Dictionary is a Python data type that stores data in key-value pairs.\n",
    "You can think of it as a real-world dictionary:\n",
    "\n",
    "The word is the key.\n",
    "The definition is the value."
   ]
  },
  {
   "cell_type": "markdown",
   "id": "ddc3e9bd-8907-4f9d-ae73-4f246b0923cc",
   "metadata": {},
   "source": [
    "Syntax:"
   ]
  },
  {
   "cell_type": "code",
   "execution_count": 18,
   "id": "f0403a65-55c0-49c6-bf15-6e5c2b330e97",
   "metadata": {},
   "outputs": [],
   "source": [
    "dictionary_name = {\n",
    "    \"key1\": \"value1\",\n",
    "    \"key2\": \"value2\",\n",
    "    \"key3\": \"value3\"\n",
    "}"
   ]
  },
  {
   "cell_type": "markdown",
   "id": "78f24ae8-ff8f-4a4b-9bc5-f891d4453869",
   "metadata": {},
   "source": [
    "Example:"
   ]
  },
  {
   "cell_type": "code",
   "execution_count": 19,
   "id": "542ecf3d-ec4e-4248-a5d8-2d1ffe0c05b8",
   "metadata": {},
   "outputs": [],
   "source": [
    "student = {\n",
    "    \"name\": \"John\",\n",
    "    \"age\": 20,\n",
    "    \"course\": \"Data Analytics\"\n",
    "}"
   ]
  },
  {
   "cell_type": "markdown",
   "id": "0fbd6e75-134b-4878-ac22-a8a614c3a3e7",
   "metadata": {},
   "source": [
    "Here,\n",
    "\n",
    "\"name\" → Key"
   ]
  },
  {
   "cell_type": "markdown",
   "id": "9b4fa3b5-4561-4f3f-8200-d833130a4851",
   "metadata": {},
   "source": [
    "\"John\" → Value"
   ]
  },
  {
   "cell_type": "markdown",
   "id": "4597e754-1dbd-4b50-911b-14a258ca19ac",
   "metadata": {},
   "source": [
    "## 2. Accessing Dictionary Values\n",
    "You can access values using their keys, not positions like in lists or tuples."
   ]
  },
  {
   "cell_type": "markdown",
   "id": "95e7c60e-1717-4dd9-ace3-a99e3e492e04",
   "metadata": {},
   "source": [
    "### Example:"
   ]
  },
  {
   "cell_type": "code",
   "execution_count": 20,
   "id": "e92bad20-e7c5-40f0-a894-6a507f808230",
   "metadata": {},
   "outputs": [
    {
     "name": "stdout",
     "output_type": "stream",
     "text": [
      "John\n",
      "Data Analytics\n"
     ]
    }
   ],
   "source": [
    "print(student[\"name\"])   # Output: John\n",
    "print(student[\"course\"]) # Output: Data Analytics"
   ]
  },
  {
   "cell_type": "markdown",
   "id": "0554f5c2-4564-46d8-9051-19336d2e54ec",
   "metadata": {},
   "source": [
    "Alternatively, you can use .get() to avoid errors:"
   ]
  },
  {
   "cell_type": "code",
   "execution_count": 21,
   "id": "e1ff1885-9a38-4b6e-93e1-a38fd50248c8",
   "metadata": {},
   "outputs": [
    {
     "name": "stdout",
     "output_type": "stream",
     "text": [
      "20\n",
      "None\n"
     ]
    }
   ],
   "source": [
    "print(student.get(\"age\"))       # Output: 20\n",
    "print(student.get(\"address\"))   # Output: None (doesn't crash!)"
   ]
  },
  {
   "cell_type": "markdown",
   "id": "44147c2b-83bd-4eb5-92a4-47c957ce4970",
   "metadata": {},
   "source": [
    "## 3. Adding and Modifying Data\n",
    "You can add new key-value pairs or update existing ones easily."
   ]
  },
  {
   "cell_type": "markdown",
   "id": "60205fb1-136c-4841-8426-2d81605ea753",
   "metadata": {},
   "source": [
    "### Example:"
   ]
  },
  {
   "cell_type": "code",
   "execution_count": 22,
   "id": "eff289be-a813-4275-9e02-3244137d3f4f",
   "metadata": {},
   "outputs": [
    {
     "name": "stdout",
     "output_type": "stream",
     "text": [
      "{'name': 'John', 'age': 21, 'course': 'Data Analytics', 'gender': 'Male'}\n"
     ]
    }
   ],
   "source": [
    "student[\"gender\"] = \"Male\"      # Add new key-value pair\n",
    "student[\"age\"] = 21             # Update existing value\n",
    "\n",
    "print(student)"
   ]
  },
  {
   "cell_type": "markdown",
   "id": "0706baf0-ad4e-4a34-a6d8-17e93d295e37",
   "metadata": {},
   "source": [
    "## 4. Removing Data\n",
    "Python provides several ways to remove items from a dictionary.\n",
    "\n",
    "### Example:"
   ]
  },
  {
   "cell_type": "code",
   "execution_count": 23,
   "id": "3eabe444-f602-4cdb-8006-df01d0f2887a",
   "metadata": {
    "scrolled": true
   },
   "outputs": [
    {
     "name": "stdout",
     "output_type": "stream",
     "text": [
      "{'name': 'John', 'age': 21, 'gender': 'Male'}\n"
     ]
    }
   ],
   "source": [
    "student.pop(\"course\")     # Removes a specific key\n",
    "print(student)"
   ]
  },
  {
   "cell_type": "code",
   "execution_count": 24,
   "id": "4c107f87-a17b-4a65-bd11-62db257af265",
   "metadata": {},
   "outputs": [
    {
     "name": "stdout",
     "output_type": "stream",
     "text": [
      "{}\n"
     ]
    }
   ],
   "source": [
    "student.clear()           # Clears everything\n",
    "print(student)            # Output: {}"
   ]
  },
  {
   "cell_type": "markdown",
   "id": "34aa442e-7bf8-44e8-90fb-ee94dfe214cb",
   "metadata": {},
   "source": [
    "## 5. Looping Through a Dictionary\n",
    "You can loop through keys, values, or both using .items().\n",
    "\n",
    "### Example:"
   ]
  },
  {
   "cell_type": "code",
   "execution_count": 25,
   "id": "ee6f8a2b-6d50-4093-b392-f056cfd8e113",
   "metadata": {},
   "outputs": [],
   "source": [
    "person = {\"name\": \"Alice\", \"age\": 25, \"city\": \"Lagos\"}"
   ]
  },
  {
   "cell_type": "code",
   "execution_count": 26,
   "id": "67765c9e-c4a9-497f-a12f-f814375bbc4e",
   "metadata": {},
   "outputs": [
    {
     "name": "stdout",
     "output_type": "stream",
     "text": [
      "name : Alice\n",
      "age : 25\n",
      "city : Lagos\n"
     ]
    }
   ],
   "source": [
    "for key, value in person.items():\n",
    "    print(key, \":\", value)"
   ]
  },
  {
   "cell_type": "markdown",
   "id": "48b5c453-6436-4566-b067-4d6a04900f6a",
   "metadata": {},
   "source": [
    "## 6. Common Dictionary Methods"
   ]
  },
  {
   "cell_type": "markdown",
   "id": "da4caa2a-2479-480f-a966-334efc07eca8",
   "metadata": {},
   "source": [
    "| Method  |\tDescription\t| Example |\n",
    "|---------|-------------|---------|\n",
    "| keys()  |\tReturns all keys |\tstudent.keys() |\n",
    "| values() | Returns all values | student.values() |\n",
    "| items() |\tReturns key-value pairs | student.items() |\n",
    "| get(key) |\tReturns value of a key | student.get(\"name\") |\n",
    "| pop(key) | Removes a key\t| student.pop(\"age\") |"
   ]
  },
  {
   "cell_type": "markdown",
   "id": "7bcc4288-d891-45ae-a40e-c266e9025c96",
   "metadata": {},
   "source": [
    "## 7. Real-Life Use Cases\n",
    "- Student records: Store student details (name, score, course).\n",
    "- Banking system: Store account numbers with balances.\n",
    "- E-commerce: Store products with their prices."
   ]
  },
  {
   "cell_type": "markdown",
   "id": "798bbd6b-8132-4a64-be07-42afe1312ee5",
   "metadata": {},
   "source": [
    "### Example:"
   ]
  },
  {
   "cell_type": "code",
   "execution_count": 27,
   "id": "b77ee2a8-5d24-4f3a-9d59-5713778a8de4",
   "metadata": {},
   "outputs": [],
   "source": [
    "product = {\n",
    "    \"id\": 101,\n",
    "    \"name\": \"Laptop\",\n",
    "    \"price\": 350000,\n",
    "    \"in_stock\": True\n",
    "}"
   ]
  },
  {
   "cell_type": "code",
   "execution_count": 28,
   "id": "2ad87915-a48f-48af-bd06-05717366713f",
   "metadata": {},
   "outputs": [
    {
     "name": "stdout",
     "output_type": "stream",
     "text": [
      "Laptop costs ₦ 350000\n"
     ]
    }
   ],
   "source": [
    "print(product[\"name\"], \"costs ₦\", product[\"price\"])"
   ]
  },
  {
   "cell_type": "markdown",
   "id": "40e07a1a-ceb9-4cb1-998a-46645ccecf26",
   "metadata": {},
   "source": [
    "## Mini-Challenges\n",
    "### Challenge 1\n",
    "Create a dictionary called person that stores:\n",
    "\n",
    "- name\n",
    "- age\n",
    "- location\n",
    "Then print each value on a new line.\n",
    "### Challenge 2\n",
    "Add a new key \"profession\" to the dictionary, then use .items() to display all key-value pairs.\n"
   ]
  },
  {
   "cell_type": "markdown",
   "id": "2675443c-f573-4f7d-82d2-88e8e3491105",
   "metadata": {},
   "source": [
    "### Challenge 3\n",
    "Write a dictionary that stores three students’ names as keys and their scores as values.\n",
    "Use a loop to print each student’s name and score."
   ]
  },
  {
   "cell_type": "markdown",
   "id": "7cbbf7eb-a198-42aa-86f0-d5268a8fc591",
   "metadata": {
    "jp-MarkdownHeadingCollapsed": true
   },
   "source": [
    "## Summary\n",
    "- A Dictionary stores data as key-value pairs.\n",
    "- Keys must be unique and immutable (like strings or numbers).\n",
    "- Values can be any type: numbers, lists, other dictionaries, etc.\n",
    "- Use .keys(), .values(), and .items() to explore or modify them."
   ]
  },
  {
   "cell_type": "markdown",
   "id": "824ebd8a-8613-4c8e-a152-87d735abfa00",
   "metadata": {},
   "source": [
    "## Homework\n",
    "Create a dictionary called user_profile that stores:\n",
    "\n",
    "1. Your name\n",
    "2. Your age\n",
    "3. Your country\n",
    "  \n",
    "A list of your favorite programming languages.\n",
    "Then print: ️\n",
    "1. All keys\n",
    "2. All values\n",
    "3. The value of your country"
   ]
  }
 ],
 "metadata": {
  "kernelspec": {
   "display_name": "Python 3 (ipykernel)",
   "language": "python",
   "name": "python3"
  },
  "language_info": {
   "codemirror_mode": {
    "name": "ipython",
    "version": 3
   },
   "file_extension": ".py",
   "mimetype": "text/x-python",
   "name": "python",
   "nbconvert_exporter": "python",
   "pygments_lexer": "ipython3",
   "version": "3.12.7"
  }
 },
 "nbformat": 4,
 "nbformat_minor": 5
}
