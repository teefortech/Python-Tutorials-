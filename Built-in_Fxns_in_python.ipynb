{
 "cells": [
  {
   "cell_type": "markdown",
   "id": "373747f4-987d-4e44-b53c-d5e0604b3cea",
   "metadata": {},
   "source": [
    "# Built-in Functions in Python\n",
    "> By\n",
    "### Tony Nwuzor\n",
    "_____________________________________"
   ]
  },
  {
   "cell_type": "markdown",
   "id": "fc4b76cb-e53b-4d78-ba54-f775ee188040",
   "metadata": {},
   "source": [
    "## What Are Built-in Functions?\n",
    "Built-in functions are functions that are always available in Python. Meaning you don’t need to import any module before using them.\n",
    "\n",
    "Think of them as tools already in your toolbox.\n",
    "You just call them when you need them!\n",
    "\n",
    "### Example:"
   ]
  },
  {
   "cell_type": "code",
   "execution_count": 36,
   "id": "37b4dfab-2828-48a3-a18e-9fb94d53f72a",
   "metadata": {},
   "outputs": [
    {
     "name": "stdout",
     "output_type": "stream",
     "text": [
      "6\n"
     ]
    }
   ],
   "source": [
    "name = \"Python\"\n",
    "print(len(name))  # Output: 6"
   ]
  },
  {
   "cell_type": "markdown",
   "id": "624511f8-6d77-4487-99d8-d6fc092ba310",
   "metadata": {},
   "source": [
    "Here, len() is a built-in function that returns the length of a sequence.\n",
    "\n",
    "## Common Built-in Functions You Should Know\n",
    "1. len() → Returns the length (number of items) of an object."
   ]
  },
  {
   "cell_type": "code",
   "execution_count": 37,
   "id": "7a95457a-2b1f-4792-b562-0cb2db95c27f",
   "metadata": {},
   "outputs": [
    {
     "name": "stdout",
     "output_type": "stream",
     "text": [
      "3\n"
     ]
    }
   ],
   "source": [
    "fruits = [\"apple\", \"banana\", \"cherry\"]\n",
    "print(len(fruits))  # 3"
   ]
  },
  {
   "cell_type": "markdown",
   "id": "85373251-6607-4fb7-ad3c-b0d75cd408f5",
   "metadata": {},
   "source": [
    "2. type() → Returns the data type of an object."
   ]
  },
  {
   "cell_type": "code",
   "execution_count": 38,
   "id": "8fd77415-d143-4b15-84ed-44b8c214158a",
   "metadata": {},
   "outputs": [
    {
     "name": "stdout",
     "output_type": "stream",
     "text": [
      "<class 'int'>\n"
     ]
    }
   ],
   "source": [
    "x = 5\n",
    "print(type(x))  # <class 'int'>"
   ]
  },
  {
   "cell_type": "markdown",
   "id": "13b281a4-8b4b-489f-8ea7-ae19dff939b8",
   "metadata": {},
   "source": [
    "3. range() → Generates a sequence of numbers, often used in loops."
   ]
  },
  {
   "cell_type": "code",
   "execution_count": 39,
   "id": "65a22806-cf8c-4c40-978a-fe56c800a31c",
   "metadata": {},
   "outputs": [
    {
     "name": "stdout",
     "output_type": "stream",
     "text": [
      "0\n",
      "1\n",
      "2\n"
     ]
    }
   ],
   "source": [
    "for i in range(3):\n",
    "    print(i)\n",
    "# Output: 0, 1, 2"
   ]
  },
  {
   "cell_type": "markdown",
   "id": "d2f562f4-c0c2-42d6-8a65-d119cbe87285",
   "metadata": {},
   "source": [
    "4. max() and min() → Return the largest and smallest items."
   ]
  },
  {
   "cell_type": "code",
   "execution_count": 40,
   "id": "c2c114e1-5b59-4739-8d38-c8d1bdc5adc5",
   "metadata": {},
   "outputs": [
    {
     "name": "stdout",
     "output_type": "stream",
     "text": [
      "9\n",
      "1\n"
     ]
    }
   ],
   "source": [
    "numbers = [4, 9, 1, 7]\n",
    "print(max(numbers))  # 9\n",
    "print(min(numbers))  # 1"
   ]
  },
  {
   "cell_type": "markdown",
   "id": "8cdabd78-f877-4ba1-a082-7a0347b37feb",
   "metadata": {},
   "source": [
    "5. sum() → Returns the total of all items in an iterable."
   ]
  },
  {
   "cell_type": "code",
   "execution_count": 41,
   "id": "8cc31267-ac92-44be-9f84-b330379ddbab",
   "metadata": {},
   "outputs": [
    {
     "name": "stdout",
     "output_type": "stream",
     "text": [
      "21\n"
     ]
    }
   ],
   "source": [
    "print(sum(numbers))  # 21"
   ]
  },
  {
   "cell_type": "markdown",
   "id": "6440f59e-5bba-4ce3-a9a0-4e0119be6f45",
   "metadata": {},
   "source": [
    "6. sorted() → Returns a sorted list from the given iterable."
   ]
  },
  {
   "cell_type": "code",
   "execution_count": 42,
   "id": "fc81aa0e-0703-40d8-8d13-a555abf8c9f5",
   "metadata": {},
   "outputs": [
    {
     "name": "stdout",
     "output_type": "stream",
     "text": [
      "[1, 4, 7, 9]\n"
     ]
    }
   ],
   "source": [
    "print(sorted(numbers))  # [1, 4, 7, 9]"
   ]
  },
  {
   "cell_type": "markdown",
   "id": "2cb101e1-b2fe-491c-a975-6a02cf10e666",
   "metadata": {},
   "source": [
    "7. input() → Gets input from the user."
   ]
  },
  {
   "cell_type": "code",
   "execution_count": 43,
   "id": "fa83b1b7-4269-40fb-886a-d216cf324f87",
   "metadata": {},
   "outputs": [
    {
     "name": "stdin",
     "output_type": "stream",
     "text": [
      "Enter your name:  Tony\n"
     ]
    },
    {
     "name": "stdout",
     "output_type": "stream",
     "text": [
      "Welcome, Tony\n"
     ]
    }
   ],
   "source": [
    "name = input(\"Enter your name: \")\n",
    "print(\"Welcome,\", name)"
   ]
  },
  {
   "cell_type": "markdown",
   "id": "e373ce1d-eead-4e60-8f50-53259b7e7667",
   "metadata": {},
   "source": [
    "8. print() → Displays output on the screen."
   ]
  },
  {
   "cell_type": "code",
   "execution_count": 44,
   "id": "94d2bf0b-f45e-4935-8812-7fbf99648e0e",
   "metadata": {},
   "outputs": [
    {
     "name": "stdout",
     "output_type": "stream",
     "text": [
      "Hello, Python Learners!\n"
     ]
    }
   ],
   "source": [
    "print(\"Hello, Python Learners!\")"
   ]
  },
  {
   "cell_type": "markdown",
   "id": "a66c6582-b8b1-4d62-8e9f-631a6ae72b2b",
   "metadata": {},
   "source": [
    "## Why Built-in Functions Matter\n",
    "They:\n",
    "\n",
    "Save you time\n",
    "Make your code shorter and cleaner\n",
    "Help you perform powerful operations easily\n",
    "In short, they’re your best friends when coding in Python!\n",
    "\n",
    "## Your Task\n",
    "Try writing a short script that uses at least five built-in functions together.\n",
    "\n",
    "### Example:\n",
    "\n"
   ]
  },
  {
   "cell_type": "code",
   "execution_count": 45,
   "id": "65b49fca-ce5d-47b2-8fe6-dc0a0a6c7d5c",
   "metadata": {},
   "outputs": [
    {
     "name": "stdout",
     "output_type": "stream",
     "text": [
      "Numbers: [10, 20, 30, 40, 50]\n",
      "Total: 150\n",
      "Largest: 50\n",
      "Average: 30.0\n",
      "Data type: <class 'list'>\n"
     ]
    }
   ],
   "source": [
    "numbers = [10, 20, 30, 40, 50]\n",
    "print(\"Numbers:\", numbers)\n",
    "print(\"Total:\", sum(numbers))\n",
    "print(\"Largest:\", max(numbers))\n",
    "print(\"Average:\", sum(numbers) / len(numbers))\n",
    "print(\"Data type:\", type(numbers))"
   ]
  }
 ],
 "metadata": {
  "kernelspec": {
   "display_name": "Python 3 (ipykernel)",
   "language": "python",
   "name": "python3"
  },
  "language_info": {
   "codemirror_mode": {
    "name": "ipython",
    "version": 3
   },
   "file_extension": ".py",
   "mimetype": "text/x-python",
   "name": "python",
   "nbconvert_exporter": "python",
   "pygments_lexer": "ipython3",
   "version": "3.12.7"
  }
 },
 "nbformat": 4,
 "nbformat_minor": 5
}
