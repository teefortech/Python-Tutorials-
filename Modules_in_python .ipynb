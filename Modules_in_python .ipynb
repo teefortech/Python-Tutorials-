{
 "cells": [
  {
   "cell_type": "markdown",
   "id": "cd32f74d-7668-44b9-bf87-4954231e03d5",
   "metadata": {},
   "source": [
    "#  Modules & Libraries in Python\n",
    "> By\n",
    "### Tony Nwuzor\n",
    "_____________________________________"
   ]
  },
  {
   "cell_type": "markdown",
   "id": "0c81ce02-ef35-4c8c-b0f0-ad13a626089c",
   "metadata": {},
   "source": [
    "## What Are Modules and Libraries?\n",
    "A module is a file that contains Python code such as functions, variables, or classes that you can reuse in your programs.\n",
    "\n",
    "A library is a collection of modules designed for specific tasks such as mathematics, data analysis, or web development.\n",
    "\n",
    "Python provides many built-in modules, and you can also install external ones like numpy, pandas, and matplotlib as you advance.\n",
    "\n",
    "Why Use Modules?\n",
    "They help you:\n",
    "\n",
    "Avoid rewriting the same code repeatedly\n",
    "Organize your work into clean, reusable blocks\n",
    "Access additional functionality such as mathematical operations or random number generation\n",
    "The math Module\n",
    "The math module gives you access to mathematical functions such as square roots, powers, trigonometry, and more.\n",
    "\n",
    "### Using Module\n",
    "To use a module, you must first import it:"
   ]
  },
  {
   "cell_type": "code",
   "execution_count": 8,
   "id": "06f1e0a1-b657-4c65-866e-92c7eb3df6fb",
   "metadata": {
    "scrolled": true
   },
   "outputs": [
    {
     "name": "stdout",
     "output_type": "stream",
     "text": [
      "4.0\n",
      "8.0\n",
      "3.141592653589793\n",
      "120\n"
     ]
    }
   ],
   "source": [
    "import math\n",
    "\n",
    "print(math.sqrt(16))    # Square root = 4.0\n",
    "print(math.pow(2, 3))   # 2 raised to the power of 3 = 8.0\n",
    "print(math.pi)          # Value of π = 3.141592653589793\n",
    "print(math.factorial(5))# 120"
   ]
  },
  {
   "cell_type": "markdown",
   "id": "374e2c6a-1e0c-4df2-b5b0-ebfd1e079192",
   "metadata": {},
   "source": [
    "You can also import only what you need:"
   ]
  },
  {
   "cell_type": "code",
   "execution_count": 9,
   "id": "3234d40f-042f-4780-9473-c801b6e2068c",
   "metadata": {},
   "outputs": [
    {
     "name": "stdout",
     "output_type": "stream",
     "text": [
      "5.0\n",
      "3.141592653589793\n"
     ]
    }
   ],
   "source": [
    "from math import sqrt, pi\n",
    "print(sqrt(25))\n",
    "print(pi)"
   ]
  },
  {
   "cell_type": "markdown",
   "id": "b791d6ad-f88e-42ee-9f69-04520b46e72e",
   "metadata": {},
   "source": [
    "## The random Module\n",
    "The random module helps you generate random numbers. It is useful for games, simulations, and sampling."
   ]
  },
  {
   "cell_type": "markdown",
   "id": "4197f4d8-699f-423d-8f91-1bb1562e3c83",
   "metadata": {},
   "source": [
    "### Example:"
   ]
  },
  {
   "cell_type": "code",
   "execution_count": 10,
   "id": "c992d8fa-ea67-4868-8523-7a237bd98d71",
   "metadata": {},
   "outputs": [
    {
     "name": "stdout",
     "output_type": "stream",
     "text": [
      "5\n",
      "green\n",
      "0.4251893584492423\n"
     ]
    }
   ],
   "source": [
    "import random\n",
    "\n",
    "print(random.randint(1, 10))       # Random number between 1 and 10\n",
    "print(random.choice(['red', 'blue', 'green']))  # Random item from a list\n",
    "print(random.random())             # Random float between 0.0 and 1.0"
   ]
  },
  {
   "cell_type": "markdown",
   "id": "b5b2a3ac-58c2-454f-ae6e-f52a6bd4fe6f",
   "metadata": {},
   "source": [
    "You can also shuffle a list:"
   ]
  },
  {
   "cell_type": "code",
   "execution_count": 11,
   "id": "5876b94d-f56c-4969-91a4-7ff7103df307",
   "metadata": {},
   "outputs": [
    {
     "name": "stdout",
     "output_type": "stream",
     "text": [
      "[4, 5, 1, 2, 3]\n"
     ]
    }
   ],
   "source": [
    "items = [1, 2, 3, 4, 5]\n",
    "random.shuffle(items)\n",
    "print(items)"
   ]
  },
  {
   "cell_type": "markdown",
   "id": "dd27a09a-c44a-4a45-a696-8391f52dd4ae",
   "metadata": {},
   "source": [
    "## Key Difference Between math and random"
   ]
  },
  {
   "cell_type": "markdown",
   "id": "c14b2dac-085d-4b4d-99b2-79e31aba3b63",
   "metadata": {},
   "source": [
    "| Module |\tUse Case |\n",
    "|--------|-----------|\n",
    "| math | For performing specific mathematical operations |\n",
    "| random |\tFor generating random values or selections |"
   ]
  },
  {
   "cell_type": "markdown",
   "id": "edd05b61-c40f-4034-9629-8fa8dfd13b23",
   "metadata": {},
   "source": [
    "### Why They Matter\n",
    "Modules and libraries make Python modular, meaning you can add only what you need.\n",
    "They are foundational for advanced areas such as:\n",
    "\n",
    "- Data Science\n",
    "- Machine Learning\n",
    "- Web Development\n",
    "- Automation"
   ]
  },
  {
   "cell_type": "markdown",
   "id": "89313da8-3809-439e-9fc5-d17edf4d2c0b",
   "metadata": {},
   "source": [
    "## Your Task\n",
    "1. Use the math module to calculate the area of a circle (π × r²)\n",
    "2. Use the random module to pick a random number between 1 and 100\n",
    "3. Combine both modules in one program."
   ]
  }
 ],
 "metadata": {
  "kernelspec": {
   "display_name": "Python 3 (ipykernel)",
   "language": "python",
   "name": "python3"
  },
  "language_info": {
   "codemirror_mode": {
    "name": "ipython",
    "version": 3
   },
   "file_extension": ".py",
   "mimetype": "text/x-python",
   "name": "python",
   "nbconvert_exporter": "python",
   "pygments_lexer": "ipython3",
   "version": "3.12.7"
  }
 },
 "nbformat": 4,
 "nbformat_minor": 5
}
