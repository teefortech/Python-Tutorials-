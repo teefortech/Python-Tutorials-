{
 "cells": [
  {
   "cell_type": "markdown",
   "id": "cd32f74d-7668-44b9-bf87-4954231e03d5",
   "metadata": {},
   "source": [
    "# Control Flow in Python – if, elif, else\n",
    "> By\n",
    "### Tony Nwuzor\n",
    "_____________________________________"
   ]
  },
  {
   "cell_type": "markdown",
   "id": "af0ea118-4fd4-47b1-b1de-d3ac321c8f2c",
   "metadata": {},
   "source": [
    "## 1. Using if Statements\n",
    "if checks a condition. If it’s True, the block of code runs.\n",
    "### Example:"
   ]
  },
  {
   "cell_type": "code",
   "execution_count": 4,
   "id": "23725f79-2ad4-4110-9535-529ff0615596",
   "metadata": {},
   "outputs": [
    {
     "name": "stdout",
     "output_type": "stream",
     "text": [
      "You are eligible to vote.\n"
     ]
    }
   ],
   "source": [
    "age = 18\n",
    "if age >= 18:\n",
    "    print(\"You are eligible to vote.\")"
   ]
  },
  {
   "cell_type": "markdown",
   "id": "228bd38e-c95d-4dd9-ad3f-df5435a0ff2d",
   "metadata": {},
   "source": [
    "Here, the condition age >= 18 is True, so the message is printed."
   ]
  },
  {
   "cell_type": "markdown",
   "id": "4c0765a6-9f4c-4876-8a6f-5c1a48225c6b",
   "metadata": {},
   "source": [
    "## 2. Adding else\n",
    "else runs when the if condition is False.\n",
    "### Example:\n"
   ]
  },
  {
   "cell_type": "code",
   "execution_count": 5,
   "id": "dcad4dfe-b168-4e94-8f1a-61ecc882f8e8",
   "metadata": {
    "scrolled": true
   },
   "outputs": [
    {
     "name": "stdout",
     "output_type": "stream",
     "text": [
      "Sorry, you are not eligible yet.\n"
     ]
    }
   ],
   "source": [
    "age = 15\n",
    "if age >= 18:\n",
    "    print(\"You are eligible to vote.\")\n",
    "else:\n",
    "    print(\"Sorry, you are not eligible yet.\")"
   ]
  },
  {
   "cell_type": "markdown",
   "id": "2a1f9111-ad35-4470-a286-a9e90bc4fe7d",
   "metadata": {},
   "source": [
    "If age is less than 18, the else block runs.\n",
    "\n",
    "## 3. Using elif for Multiple Conditions\n",
    "elif (short for else if) checks another condition if the first if is False.\n",
    "### Example:"
   ]
  },
  {
   "cell_type": "code",
   "execution_count": 6,
   "id": "2bdf4fc6-e384-44aa-a332-96e5faba686c",
   "metadata": {},
   "outputs": [
    {
     "name": "stdout",
     "output_type": "stream",
     "text": [
      "Grade: B\n"
     ]
    }
   ],
   "source": [
    "score = 75\n",
    "\n",
    "if score >= 90:\n",
    "    print(\"Grade: A\")\n",
    "elif score >= 75:\n",
    "    print(\"Grade: B\")\n",
    "elif score >= 60:\n",
    "    print(\"Grade: C\")\n",
    "else:\n",
    "    print(\"Grade: D\")"
   ]
  },
  {
   "cell_type": "markdown",
   "id": "c6d8628e-e593-474a-ba76-575973f67a97",
   "metadata": {},
   "source": [
    "This structure allows multiple possibilities to be checked in sequence.\n",
    "\n",
    "## Comparison and Logical Operators\n",
    "You can use comparison operators:"
   ]
  },
  {
   "cell_type": "code",
   "execution_count": null,
   "id": "6c3bfa4f-d1c0-4a13-9053-76c54988643c",
   "metadata": {},
   "outputs": [],
   "source": [
    "== (equal to)\n",
    "!= (not equal to)\n",
    "> , < , >= , <="
   ]
  },
  {
   "cell_type": "markdown",
   "id": "00047e2e-6121-4800-b450-cd332e18506c",
   "metadata": {},
   "source": [
    "And logical operators:\n",
    "\n",
    "1. and – both conditions must be True.\n",
    "2. or – at least one condition is True.\n",
    "3. not – reverses a condition.\n",
    "### Example:"
   ]
  },
  {
   "cell_type": "code",
   "execution_count": 8,
   "id": "b6f7f47a-f6f8-417c-91e6-accbe17d9673",
   "metadata": {},
   "outputs": [
    {
     "name": "stdout",
     "output_type": "stream",
     "text": [
      "You can vote in the UK.\n"
     ]
    }
   ],
   "source": [
    "age = 20\n",
    "country = \"UK\"\n",
    "if age >= 18 and country == \"UK\":\n",
    "    print(\"You can vote in the UK.\")"
   ]
  },
  {
   "cell_type": "markdown",
   "id": "2ff80fe1-6dc1-4bfe-9fa0-3f3071d1d421",
   "metadata": {},
   "source": [
    "\n",
    "## Mini-Challenges\n",
    "### Challenge 1\n",
    "Ask a user for a number and print whether it’s positive, negative, or zero.\n",
    "\n",
    "### Challenge 2\n",
    "Write a program that:\n",
    "1. Asks for a user’s exam score.\n",
    "2. Uses if, elif, else to print:\n",
    "\n",
    "\"Excellent\" for scores ≥ 90\n"
   ]
  },
  {
   "cell_type": "markdown",
   "id": "28bd5d91-978f-4725-837f-9f6ee9d30df7",
   "metadata": {},
   "source": [
    "\"Good\" for scores ≥ 70\n"
   ]
  },
  {
   "cell_type": "markdown",
   "id": "18d50fd7-9442-4e9b-9156-2d7abde352fb",
   "metadata": {},
   "source": [
    "\"Needs Improvement\" for anything lower"
   ]
  },
  {
   "attachments": {},
   "cell_type": "markdown",
   "id": "9891e5c7-0029-4cf7-a51f-c2bf101cdfe9",
   "metadata": {},
   "source": [
    "## Summary\n",
    "Control flow decides which code runs based on conditions.\n",
    "- Use if for a single check.\n",
    "- Use else for a fallback action.\n",
    "- Use elif for multiple possibilities.\n",
    "- Combine conditions with comparison and logical operators.\n",
    "\n",
    "## EXERCISE 4\n",
    "Write a script that:\n",
    "1. Asks for your age.\n",
    "2. If under 13 → print \"You're a child.\"\n",
    "3. If between 13-19 → print \"You're a teenager.\"\n",
    "4. If 20 or older → print \"You're an adult.\""
   ]
  }
 ],
 "metadata": {
  "kernelspec": {
   "display_name": "Python 3 (ipykernel)",
   "language": "python",
   "name": "python3"
  },
  "language_info": {
   "codemirror_mode": {
    "name": "ipython",
    "version": 3
   },
   "file_extension": ".py",
   "mimetype": "text/x-python",
   "name": "python",
   "nbconvert_exporter": "python",
   "pygments_lexer": "ipython3",
   "version": "3.12.7"
  }
 },
 "nbformat": 4,
 "nbformat_minor": 5
}
