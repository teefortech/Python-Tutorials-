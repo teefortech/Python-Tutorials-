{
 "cells": [
  {
   "cell_type": "markdown",
   "id": "7b3d3505-7fba-4ccf-be55-023128567e13",
   "metadata": {},
   "source": [
    "# Variables and Data Types in Python\n",
    "> By\n",
    "### Tony Nwuzor\n",
    "_____________________________________"
   ]
  },
  {
   "cell_type": "markdown",
   "id": "8fe34073-c8e9-498d-a0fd-9a93954e286e",
   "metadata": {},
   "source": [
    "## What Are Variables?\n",
    "Think of variables as containers that hold information for your program. They make your code reusable and flexible."
   ]
  },
  {
   "cell_type": "markdown",
   "id": "82dda8ce-43de-4d0c-97af-609ada5a04fc",
   "metadata": {},
   "source": [
    "### Example:"
   ]
  },
  {
   "cell_type": "code",
   "execution_count": 12,
   "id": "716caaf1-d5be-40e3-91c9-0c051bb39d8d",
   "metadata": {},
   "outputs": [],
   "source": [
    "name = \"Anthony\"\n",
    "age = 25"
   ]
  },
  {
   "cell_type": "markdown",
   "id": "eb29805d-c1ae-43f8-acca-b8de737e7548",
   "metadata": {},
   "source": [
    "Here:\n",
    "name stores a string (\"Anthony\")\n",
    "age stores an integer (25)\n",
    "\n",
    "Tip: Variables help your program “remember” values while it runs."
   ]
  },
  {
   "cell_type": "markdown",
   "id": "77129bae-0483-4536-81cd-879df34120fa",
   "metadata": {},
   "source": [
    " ### Rules for Naming Variables\n",
    "- Start with a letter or underscore (_)\n",
    "- Use letters, numbers, or underscores only\n",
    "- Case-sensitive (Name ≠ name)\n",
    "- Don’t use Python keywords (for, class, if, etc.)"
   ]
  },
  {
   "cell_type": "markdown",
   "id": "45d1d0b5-27a6-4691-bb0a-b905f6bb7781",
   "metadata": {},
   "source": [
    "### Valid Examples:"
   ]
  },
  {
   "cell_type": "code",
   "execution_count": 13,
   "id": "87a2fedb-e82a-496b-8261-f75167f4bfa9",
   "metadata": {},
   "outputs": [],
   "source": [
    "user_name = \"Emmy\"  \n",
    "_user2 = \"Tina\"  "
   ]
  },
  {
   "cell_type": "markdown",
   "id": "ff36608b-b180-4151-a8c9-829a0f0c43e8",
   "metadata": {},
   "source": [
    "### Invalid Example:"
   ]
  },
  {
   "cell_type": "code",
   "execution_count": null,
   "id": "6fdabc8a-a92b-46c6-8113-43fce59c6639",
   "metadata": {},
   "outputs": [],
   "source": [
    "2nd_user = \"Sam\"  # Cannot start with a number"
   ]
  },
  {
   "cell_type": "markdown",
   "id": "79731e98-b1c7-463e-a6e7-7c90ebe70cdb",
   "metadata": {},
   "source": [
    "## Python’s Basic Data Types"
   ]
  },
  {
   "cell_type": "markdown",
   "id": "89b8e671-8705-4f53-b156-18a8c3c13dce",
   "metadata": {},
   "source": [
    "| Type\t   | Description\t   | Example           |\n",
    "|----------|-------------------|-------------------|\n",
    "| int\t   | Whole numbers\t   | age = 30          |\n",
    "| float\t   | Decimal numbers   | height = 5.9      |\n",
    "| str\t   | Text (strings)\t   | name = \"Alice\"    |\n",
    "| bool\t   | True/False values | is_student = True |"
   ]
  },
  {
   "cell_type": "markdown",
   "id": "16746ac4-7a14-44cc-aa33-7b605847efa5",
   "metadata": {},
   "source": [
    "### Checking & Converting Types\n",
    "Use type() to check a variable’s type:"
   ]
  },
  {
   "cell_type": "code",
   "execution_count": 14,
   "id": "65fcf816-7329-4365-9762-d203d117628a",
   "metadata": {},
   "outputs": [
    {
     "name": "stdout",
     "output_type": "stream",
     "text": [
      "<class 'int'>\n"
     ]
    }
   ],
   "source": [
    "x = 10\n",
    "print(type(x))   # Output: <class 'int'>"
   ]
  },
  {
   "cell_type": "markdown",
   "id": "f3b6b4ab-77ae-43ef-b0db-27020723143c",
   "metadata": {},
   "source": [
    "### Convert between types:"
   ]
  },
  {
   "cell_type": "code",
   "execution_count": 16,
   "id": "6b4fda52-8b35-41c3-bd15-64ad849d37a9",
   "metadata": {},
   "outputs": [
    {
     "name": "stdout",
     "output_type": "stream",
     "text": [
      "30\n"
     ]
    }
   ],
   "source": [
    "num_str = \"25\"\n",
    "num_int = int(num_str)  # Convert string to int\n",
    "print(num_int + 5)      # Output: 30"
   ]
  },
  {
   "cell_type": "markdown",
   "id": "850d4983-260f-4d84-8c4d-f321ef5aa2f2",
   "metadata": {},
   "source": [
    "## Mini-Challenge \n",
    "1. Create variables for your name, age, height, and student status.\n",
    "2. Print them using print().\n",
    "3. Convert your age to a string and combine it in a sentence like:"
   ]
  },
  {
   "cell_type": "code",
   "execution_count": null,
   "id": "f77b5c40-8734-4217-8cfe-d5d2dc95b902",
   "metadata": {},
   "outputs": [],
   "source": [
    "\"I am \" + str(age) + \" years old.\""
   ]
  },
  {
   "cell_type": "markdown",
   "id": "bf5197e8-ed3f-4671-bbdc-6d58bb6ca444",
   "metadata": {},
   "source": [
    "## Summary\n",
    "- Variables store data for use in your programs.\n",
    "- Use clear, valid names for variables.\n",
    "- Python’s core data types: int, float, str, bool.\n",
    "- Use type() to check data types and conversion functions like int(), float(), and str() to switch types."
   ]
  },
  {
   "cell_type": "markdown",
   "id": "f8ea05a5-bb93-45df-9622-82c374c397e2",
   "metadata": {},
   "source": [
    "## Exercise 1\n",
    "Write a short script that:\n",
    "1. Takes your name and age as input.\n",
    "2. Prints: \"Hello [Name], you are [Age] years old!\"."
   ]
  }
 ],
 "metadata": {
  "kernelspec": {
   "display_name": "Python 3 (ipykernel)",
   "language": "python",
   "name": "python3"
  },
  "language_info": {
   "codemirror_mode": {
    "name": "ipython",
    "version": 3
   },
   "file_extension": ".py",
   "mimetype": "text/x-python",
   "name": "python",
   "nbconvert_exporter": "python",
   "pygments_lexer": "ipython3",
   "version": "3.12.7"
  }
 },
 "nbformat": 4,
 "nbformat_minor": 5
}
