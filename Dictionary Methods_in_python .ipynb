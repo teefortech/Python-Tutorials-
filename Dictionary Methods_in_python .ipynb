{
 "cells": [
  {
   "cell_type": "markdown",
   "id": "cd32f74d-7668-44b9-bf87-4954231e03d5",
   "metadata": {},
   "source": [
    "#  Dictionary Methods in Python\n",
    "> By\n",
    "### Tony Nwuzor\n",
    "_____________________________________"
   ]
  },
  {
   "cell_type": "markdown",
   "id": "2b524f02-a6c3-4a73-9679-ec22854c2637",
   "metadata": {},
   "source": [
    "## Common Python Dictionary Methods"
   ]
  },
  {
   "cell_type": "markdown",
   "id": "7e6f724b-bfbf-490b-b03f-7856ad7cb724",
   "metadata": {},
   "source": [
    "| Method | Description\t| Example |\n",
    "|---------|-----------|-----------|\n",
    "| dict.clear()\t| Removes all items from the dictionary. |\tperson.clear() |\n",
    "| dict.copy()\t| Returns a shallow copy of the dictionary. | new_dict = person.copy() |\n",
    "| dict.fromkeys(keys, value) |\tCreates a new dictionary with keys from a sequence and a specified value. |\tdict.fromkeys(['a', 'b', 'c'], 0) → {'a': 0, 'b': 0, 'c': 0} |\n",
    "| dict.get(key, default) |\tReturns the value for the specified key; returns default if key not found. |\tperson.get('age', 0) |\n",
    "| dict.items()\t| Returns a view object with dictionary’s (key, value) pairs.\t| person.items() |\n",
    "| dict.keys() |\tReturns a view object with all dictionary keys. |\tperson.keys() |\n",
    "| dict.values() | Returns a view object with all dictionary values. |\tperson.values() |\n",
    "| dict.pop(key, default)\t| Removes a key and returns its value; returns default if key not found.\t| person.pop('age', 25) |\n",
    "| dict.popitem()\t| Removes and returns the last inserted key-value pair (in Python 3.7+).\t| person.popitem() |\n",
    "| dict.setdefault(key, default) |\tReturns value of key. If key doesn’t exist, inserts it with default value. |\tperson.setdefault('country', 'Nigeria') |\n",
    "| dict.update(other_dict) |\tUpdates dictionary with elements from another dictionary or key-value pairs. |\tperson.update({'age': 30}) |\n"
   ]
  },
  {
   "cell_type": "markdown",
   "id": "7cb13079-f19e-42ce-8fba-8368f44ef699",
   "metadata": {},
   "source": [
    "## Examples on the Usage"
   ]
  },
  {
   "cell_type": "code",
   "execution_count": 16,
   "id": "73faf444-0efa-4ff7-9593-1deee1038be7",
   "metadata": {},
   "outputs": [],
   "source": [
    "person = {\n",
    "    \"name\": \"Tony\",\n",
    "    \"age\": 25,\n",
    "    \"country\": \"Nigeria\"\n",
    "}\n"
   ]
  },
  {
   "cell_type": "markdown",
   "id": "dcfa1058-f60b-443b-ad46-3c6f54622e7b",
   "metadata": {},
   "source": [
    "### 1. Get all keys"
   ]
  },
  {
   "cell_type": "code",
   "execution_count": 17,
   "id": "2cc16db8-1422-4ccf-849e-f72e7cea3324",
   "metadata": {},
   "outputs": [
    {
     "name": "stdout",
     "output_type": "stream",
     "text": [
      "dict_keys(['name', 'age', 'country'])\n"
     ]
    }
   ],
   "source": [
    "print(person.keys())          # dict_keys(['name', 'age', 'country'])\n"
   ]
  },
  {
   "cell_type": "markdown",
   "id": "f1bdd813-314e-4c50-ba18-eca3250304cf",
   "metadata": {},
   "source": [
    "### 2. Get all values"
   ]
  },
  {
   "cell_type": "code",
   "execution_count": 18,
   "id": "849fd2c2-1423-443d-8da8-b89bf08d269a",
   "metadata": {},
   "outputs": [
    {
     "name": "stdout",
     "output_type": "stream",
     "text": [
      "dict_values(['Tony', 25, 'Nigeria'])\n"
     ]
    }
   ],
   "source": [
    "print(person.values())        # dict_values(['Tony', 25, 'Nigeria'])\n"
   ]
  },
  {
   "cell_type": "markdown",
   "id": "4745cd64-e3dd-4c39-8e62-36bc5839ef9b",
   "metadata": {},
   "source": [
    "### 3. Add or update value"
   ]
  },
  {
   "cell_type": "code",
   "execution_count": 19,
   "id": "7de55e6a-75e1-4315-8f15-23c555646eb6",
   "metadata": {},
   "outputs": [
    {
     "name": "stdout",
     "output_type": "stream",
     "text": [
      "{'name': 'Tony', 'age': 26, 'country': 'Nigeria'}\n"
     ]
    }
   ],
   "source": [
    "person.update({'age': 26})\n",
    "print(person)                 # {'name': 'Tony', 'age': 26, 'country': 'Nigeria'}"
   ]
  },
  {
   "cell_type": "markdown",
   "id": "cf9f8b33-c33a-4528-b0f6-6a84c509271c",
   "metadata": {},
   "source": [
    "### 4. Remove a key"
   ]
  },
  {
   "cell_type": "code",
   "execution_count": 20,
   "id": "693b93ee-06b8-45ee-aaa1-0558d271d31a",
   "metadata": {},
   "outputs": [
    {
     "name": "stdout",
     "output_type": "stream",
     "text": [
      "{'name': 'Tony', 'age': 26}\n"
     ]
    }
   ],
   "source": [
    "person.pop('country')\n",
    "print(person)                 # {'name': 'Tony', 'age': 26}\n"
   ]
  },
  {
   "cell_type": "markdown",
   "id": "098c5b31-f6ae-4f30-ac88-2eada9b705ff",
   "metadata": {},
   "source": [
    "### 5. Copy dictionary"
   ]
  },
  {
   "cell_type": "code",
   "execution_count": 21,
   "id": "83d3ccc1-e3fb-4a64-ab0c-5659e390f727",
   "metadata": {},
   "outputs": [
    {
     "name": "stdout",
     "output_type": "stream",
     "text": [
      "{'name': 'Tony', 'age': 26}\n"
     ]
    }
   ],
   "source": [
    "new_person = person.copy()\n",
    "print(new_person)             # {'name': 'Tony', 'age': 26}\n"
   ]
  },
  {
   "cell_type": "markdown",
   "id": "13e11a35-6109-49a1-919f-8266a926e8bb",
   "metadata": {},
   "source": [
    "### 6. Use fromkeys"
   ]
  },
  {
   "cell_type": "code",
   "execution_count": 22,
   "id": "c0236de6-d893-4a1e-b079-d2ce46ece19b",
   "metadata": {},
   "outputs": [
    {
     "name": "stdout",
     "output_type": "stream",
     "text": [
      "{'Math': 0, 'English': 0, 'Science': 0}\n"
     ]
    }
   ],
   "source": [
    "grades = dict.fromkeys(['Math', 'English', 'Science'], 0)\n",
    "print(grades)                 # {'Math': 0, 'English': 0, 'Science': 0}\n"
   ]
  },
  {
   "cell_type": "markdown",
   "id": "8e471a5f-60e6-466f-a843-92480cbcdf8d",
   "metadata": {},
   "source": [
    "## Quick Summary Table\n",
    "| Category | \tMethods |\n",
    "|----------|------------|\n",
    "| Accessing Data |\tget(), keys(), values(), items() |\n",
    "| Modifying Data | \tupdate(), setdefault(), fromkeys() |\n",
    "| Removing Data  |\tpop(), popitem(), clear() |\n",
    "| Copying / Creating |\tcopy(), fromkeys() |"
   ]
  },
  {
   "cell_type": "code",
   "execution_count": null,
   "id": "e8047056-f203-4fe1-9884-6c5b8f5f370d",
   "metadata": {},
   "outputs": [],
   "source": []
  }
 ],
 "metadata": {
  "kernelspec": {
   "display_name": "Python 3 (ipykernel)",
   "language": "python",
   "name": "python3"
  },
  "language_info": {
   "codemirror_mode": {
    "name": "ipython",
    "version": 3
   },
   "file_extension": ".py",
   "mimetype": "text/x-python",
   "name": "python",
   "nbconvert_exporter": "python",
   "pygments_lexer": "ipython3",
   "version": "3.12.7"
  }
 },
 "nbformat": 4,
 "nbformat_minor": 5
}
