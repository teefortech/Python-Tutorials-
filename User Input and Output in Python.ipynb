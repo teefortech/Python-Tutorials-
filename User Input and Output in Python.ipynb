{
 "cells": [
  {
   "cell_type": "markdown",
   "id": "0a4d8e7d-f32b-440f-8aa5-ac868599337c",
   "metadata": {},
   "source": [
    "# User Input and Output in Python\n",
    "> By\n",
    "### Tony Nwuzor\n",
    "_____________________________________"
   ]
  },
  {
   "cell_type": "markdown",
   "id": "50d16a58-21cc-4fcc-b4ee-52d898fb2b2c",
   "metadata": {},
   "source": [
    "### 1. Displaying Output with print()\n",
    "The print() function shows information to the screen.\n",
    "### Example:"
   ]
  },
  {
   "cell_type": "code",
   "execution_count": 1,
   "id": "4175ec55-ea0b-49c7-a497-2dff02c4462a",
   "metadata": {},
   "outputs": [
    {
     "name": "stdout",
     "output_type": "stream",
     "text": [
      "Welcome to Python!\n",
      "2 + 3 = 5\n"
     ]
    }
   ],
   "source": [
    "print(\"Welcome to Python!\")\n",
    "print(\"2 + 3 =\", 2 + 3)"
   ]
  },
  {
   "cell_type": "code",
   "execution_count": null,
   "id": "0226008c-ab90-454c-8c5e-399d5414c432",
   "metadata": {},
   "outputs": [],
   "source": [
    "Tip: You can print multiple values by separating them with commas."
   ]
  },
  {
   "cell_type": "markdown",
   "id": "c3189b1f-a332-4f8e-950a-26ff524aa875",
   "metadata": {},
   "source": [
    "### 2. Getting User Input with input()\n",
    "The input() function pauses the program and waits for the user to type something.\n",
    "### Example:"
   ]
  },
  {
   "cell_type": "code",
   "execution_count": 2,
   "id": "8b348ac7-3956-4de8-892b-0ba7fa33dec9",
   "metadata": {},
   "outputs": [
    {
     "name": "stdin",
     "output_type": "stream",
     "text": [
      "Enter your name:  Anthony\n"
     ]
    },
    {
     "name": "stdout",
     "output_type": "stream",
     "text": [
      "Hello, Anthony\n"
     ]
    }
   ],
   "source": [
    "name = input(\"Enter your name: \")\n",
    "print(\"Hello,\", name)"
   ]
  },
  {
   "cell_type": "markdown",
   "id": "495cbe35-7e2a-473c-91cc-cae8e3b8c9c1",
   "metadata": {},
   "source": [
    "### What is happening here?"
   ]
  },
  {
   "cell_type": "markdown",
   "id": "b05d18a0-97ed-42ff-afdb-e19a2c082210",
   "metadata": {},
   "source": [
    "input() collects what the user types.\n",
    "The result is always stored as a string, even if it is a number."
   ]
  },
  {
   "cell_type": "markdown",
   "id": "d3c63b31-7a0d-45b5-a66f-44c8e8c6a663",
   "metadata": {},
   "source": [
    "### 3. Working with Numbers from User Input\n",
    "Since input() returns a string, convert it for math:\n",
    "### Example:"
   ]
  },
  {
   "cell_type": "code",
   "execution_count": 5,
   "id": "e608c5fe-f274-42b3-9481-a0a1b5b98760",
   "metadata": {},
   "outputs": [
    {
     "name": "stdin",
     "output_type": "stream",
     "text": [
      "Enter your age:  20\n"
     ]
    },
    {
     "name": "stdout",
     "output_type": "stream",
     "text": [
      "Next year, you will be 21 years old.\n"
     ]
    }
   ],
   "source": [
    "age = input(\"Enter your age: \")\n",
    "age = int(age)  # Convert to integer\n",
    "print(\"Next year, you will be\", age + 1, \"years old.\")"
   ]
  },
  {
   "cell_type": "markdown",
   "id": "04cb796b-802b-412c-8b86-89e1392d955f",
   "metadata": {},
   "source": [
    "Tip: Use int() for whole numbers or float() for decimals."
   ]
  },
  {
   "cell_type": "markdown",
   "id": "47ca2574-7c2e-4ffc-85e3-67db0bd6bafa",
   "metadata": {},
   "source": [
    "### 4. Formatting Output\n",
    "Make your output look cleaner with f-strings:\n",
    "### Example:"
   ]
  },
  {
   "cell_type": "code",
   "execution_count": 8,
   "id": "8b52e6ae-d94a-4b61-adfb-f107d4a8249c",
   "metadata": {},
   "outputs": [
    {
     "name": "stdin",
     "output_type": "stream",
     "text": [
      "What is your name?  Jenny\n",
      "What is your favorite color?  pink\n"
     ]
    },
    {
     "name": "stdout",
     "output_type": "stream",
     "text": [
      "Hi Jenny, your favorite color is pink!\n"
     ]
    }
   ],
   "source": [
    "name = input(\"What is your name? \")\n",
    "color = input(\"What is your favorite color? \")\n",
    "print(f\"Hi {name}, your favorite color is {color}!\")"
   ]
  },
  {
   "cell_type": "markdown",
   "id": "3c6a8eb6-b84f-45a1-8b6d-1a24aed4ce21",
   "metadata": {},
   "source": [
    "## Mini-Challenge\n",
    "Write a script that:\n",
    "1. Asks the user for their name and hobby\n",
    "\n",
    "2. Prints a friendly message like:"
   ]
  },
  {
   "cell_type": "code",
   "execution_count": null,
   "id": "73135fa4-35ce-40aa-bd5e-82d8ed86d200",
   "metadata": {},
   "outputs": [],
   "source": [
    "Hello [Name]! It’s awesome that you enjoy [Hobby]."
   ]
  },
  {
   "cell_type": "markdown",
   "id": "c66f81a4-cd62-4c8c-afcf-cf6ad3eb1b61",
   "metadata": {},
   "source": [
    "## Summary\n",
    "- Use print() to display output.\n",
    "- Use input() to collect user input (always as a string).\n",
    "- Convert input with int() or float() for math.\n",
    "- Use f-strings for neat, readable output.\n",
    "\n",
    "## EXERCISE 2\n",
    "Create a small program that:\n",
    "1. Asks for two numbers.\n",
    "2. Adds them together and prints:\n",
    "\n",
    "The sum of [num1] and [num2] is [result]."
   ]
  }
 ],
 "metadata": {
  "kernelspec": {
   "display_name": "Python 3 (ipykernel)",
   "language": "python",
   "name": "python3"
  },
  "language_info": {
   "codemirror_mode": {
    "name": "ipython",
    "version": 3
   },
   "file_extension": ".py",
   "mimetype": "text/x-python",
   "name": "python",
   "nbconvert_exporter": "python",
   "pygments_lexer": "ipython3",
   "version": "3.12.7"
  }
 },
 "nbformat": 4,
 "nbformat_minor": 5
}
