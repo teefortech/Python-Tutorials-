{
 "cells": [
  {
   "cell_type": "markdown",
   "id": "a016cf6c-1397-45f9-b56b-299e060701e1",
   "metadata": {},
   "source": [
    "# Basic Arithmetic Operations in Python\n",
    "> By\n",
    "### Tony Nwuzor\n",
    "_____________________________________"
   ]
  },
  {
   "cell_type": "markdown",
   "id": "c89859a4-499e-437e-9692-a852797f6985",
   "metadata": {},
   "source": [
    "### Assigning values to variables"
   ]
  },
  {
   "cell_type": "code",
   "execution_count": 21,
   "id": "c75905b6-c11e-4dc2-9a36-6e77767dcd70",
   "metadata": {},
   "outputs": [],
   "source": [
    "x = 5"
   ]
  },
  {
   "cell_type": "code",
   "execution_count": 22,
   "id": "46a808dc-cf69-41e3-901d-b5ab203eb9ac",
   "metadata": {},
   "outputs": [],
   "source": [
    "y = 2"
   ]
  },
  {
   "cell_type": "markdown",
   "id": "0cc43309-33af-47d0-80e6-cc5166cafc2e",
   "metadata": {},
   "source": [
    "### Addition (+)"
   ]
  },
  {
   "cell_type": "code",
   "execution_count": 23,
   "id": "c4875a14-e2db-4ea6-a44d-b191daef4aed",
   "metadata": {},
   "outputs": [
    {
     "name": "stdout",
     "output_type": "stream",
     "text": [
      "7\n"
     ]
    }
   ],
   "source": [
    "print(x + y) "
   ]
  },
  {
   "cell_type": "markdown",
   "id": "2bf09347-c3f3-44ac-a659-2e4d4979b3d7",
   "metadata": {},
   "source": [
    "### Subtraction (-) "
   ]
  },
  {
   "cell_type": "code",
   "execution_count": 24,
   "id": "58a43de4-5400-4ec9-b306-bc06d568ce79",
   "metadata": {},
   "outputs": [
    {
     "name": "stdout",
     "output_type": "stream",
     "text": [
      "3\n"
     ]
    }
   ],
   "source": [
    "print(x - y) "
   ]
  },
  {
   "cell_type": "markdown",
   "id": "ebdf3de8-ede7-423f-ae29-ebdb34ae588f",
   "metadata": {},
   "source": [
    "### Multiplication (*)"
   ]
  },
  {
   "cell_type": "code",
   "execution_count": 25,
   "id": "297222f4-d677-4a50-90d5-21c92033a362",
   "metadata": {},
   "outputs": [
    {
     "name": "stdout",
     "output_type": "stream",
     "text": [
      "10\n"
     ]
    }
   ],
   "source": [
    "print(x * y) "
   ]
  },
  {
   "cell_type": "markdown",
   "id": "c62e21b4-f0b3-43d4-8aa3-cd93732c7466",
   "metadata": {},
   "source": [
    "### Division (/)"
   ]
  },
  {
   "cell_type": "code",
   "execution_count": 26,
   "id": "16dcf5db-bc4d-4cdb-8370-07d0adfb174a",
   "metadata": {},
   "outputs": [
    {
     "name": "stdout",
     "output_type": "stream",
     "text": [
      "2.5\n"
     ]
    }
   ],
   "source": [
    "print(x / y)  "
   ]
  },
  {
   "cell_type": "markdown",
   "id": "43420f1d-a34b-4e48-bd9e-9321831b0686",
   "metadata": {},
   "source": [
    "### Floor Division (//) – This divides and rounds down to the nearest whole number"
   ]
  },
  {
   "cell_type": "code",
   "execution_count": 27,
   "id": "25ec70ed-1837-44c2-a5ed-7b0d17b826e8",
   "metadata": {},
   "outputs": [
    {
     "name": "stdout",
     "output_type": "stream",
     "text": [
      "2\n"
     ]
    }
   ],
   "source": [
    "print(x // y) "
   ]
  },
  {
   "cell_type": "markdown",
   "id": "28d50289-6aab-4af6-b96b-5b9eba85d3b2",
   "metadata": {},
   "source": [
    " ### Modulus (%) – This gives the remainder of a division"
   ]
  },
  {
   "cell_type": "code",
   "execution_count": 28,
   "id": "08f2ba52-b8da-4ff5-8fdd-353089574b4f",
   "metadata": {},
   "outputs": [
    {
     "name": "stdout",
     "output_type": "stream",
     "text": [
      "1\n"
     ]
    }
   ],
   "source": [
    "print(x % y) "
   ]
  },
  {
   "cell_type": "markdown",
   "id": "07c1a536-abf3-4246-b6a0-91714c9d010b",
   "metadata": {},
   "source": [
    "### Exponentiation (**) – Raises a number to a power"
   ]
  },
  {
   "cell_type": "code",
   "execution_count": 29,
   "id": "0969d1e9-c831-4d57-b47d-397f978052d0",
   "metadata": {},
   "outputs": [
    {
     "name": "stdout",
     "output_type": "stream",
     "text": [
      "8\n"
     ]
    }
   ],
   "source": [
    "print(2 ** 3) "
   ]
  }
 ],
 "metadata": {
  "kernelspec": {
   "display_name": "Python 3 (ipykernel)",
   "language": "python",
   "name": "python3"
  },
  "language_info": {
   "codemirror_mode": {
    "name": "ipython",
    "version": 3
   },
   "file_extension": ".py",
   "mimetype": "text/x-python",
   "name": "python",
   "nbconvert_exporter": "python",
   "pygments_lexer": "ipython3",
   "version": "3.12.7"
  }
 },
 "nbformat": 4,
 "nbformat_minor": 5
}
