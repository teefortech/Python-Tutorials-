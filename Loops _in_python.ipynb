{
 "cells": [
  {
   "cell_type": "markdown",
   "id": "373747f4-987d-4e44-b53c-d5e0604b3cea",
   "metadata": {},
   "source": [
    "# Loops in Python - for and while\n",
    "> By\n",
    "### Tony Nwuzor\n",
    "_____________________________________"
   ]
  },
  {
   "cell_type": "markdown",
   "id": "1d759a4b-05d3-4982-969d-a175fb7d5849",
   "metadata": {},
   "source": [
    "## The for Loop\n",
    "A for loop is used to iterate over a sequence (like a list, range, or string).\n",
    "\n",
    "### Example 1: Counting Numbers"
   ]
  },
  {
   "cell_type": "code",
   "execution_count": 5,
   "id": "4175ec55-ea0b-49c7-a497-2dff02c4462a",
   "metadata": {
    "scrolled": true
   },
   "outputs": [
    {
     "name": "stdout",
     "output_type": "stream",
     "text": [
      "1\n",
      "2\n",
      "3\n",
      "4\n",
      "5\n"
     ]
    }
   ],
   "source": [
    "for i in range(1, 6):\n",
    "    print(i)"
   ]
  },
  {
   "cell_type": "markdown",
   "id": "207013da-7fd7-4cd7-946c-d2697fa10e83",
   "metadata": {},
   "source": [
    "### Example 2: Looping Through a List"
   ]
  },
  {
   "cell_type": "code",
   "execution_count": 6,
   "id": "0e1df68e-b5bd-4414-bd66-d7ed3a034848",
   "metadata": {},
   "outputs": [
    {
     "name": "stdout",
     "output_type": "stream",
     "text": [
      "apple\n",
      "banana\n",
      "cherry\n"
     ]
    }
   ],
   "source": [
    "fruits = [\"apple\", \"banana\", \"cherry\"]\n",
    "for fruit in fruits:\n",
    "    print(fruit)"
   ]
  },
  {
   "cell_type": "markdown",
   "id": "8b8a8270-c370-4012-804b-0a5af841d48a",
   "metadata": {},
   "source": [
    "## The while Loop\n",
    "A while loop keeps running as long as the condition is True.\n",
    "\n",
    "### Example 1: Simple Countdown"
   ]
  },
  {
   "cell_type": "code",
   "execution_count": 7,
   "id": "59ecc6d2-8bd9-4b0b-ac72-4f111df3f282",
   "metadata": {},
   "outputs": [
    {
     "name": "stdout",
     "output_type": "stream",
     "text": [
      "5\n",
      "4\n",
      "3\n",
      "2\n",
      "1\n"
     ]
    }
   ],
   "source": [
    "count = 5\n",
    "while count > 0:\n",
    "    print(count)\n",
    "    count -= 1"
   ]
  },
  {
   "cell_type": "markdown",
   "id": "a373f16e-f66e-421a-9956-701c07f2307c",
   "metadata": {},
   "source": [
    "### Example 2: User Input Until Correct"
   ]
  },
  {
   "cell_type": "code",
   "execution_count": 9,
   "id": "340f46c2-0a3e-45a2-af28-26e2f0cf009b",
   "metadata": {},
   "outputs": [
    {
     "name": "stdin",
     "output_type": "stream",
     "text": [
      "Enter password:  tony123\n"
     ]
    },
    {
     "name": "stdout",
     "output_type": "stream",
     "text": [
      "Access granted!\n"
     ]
    }
   ],
   "source": [
    "password = \"\"\n",
    "while password != \"tony123\":\n",
    "    password = input(\"Enter password: \")\n",
    "print(\"Access granted!\")"
   ]
  },
  {
   "cell_type": "markdown",
   "id": "b5fcc610-f46a-4435-9a0f-8bfcfe6c1da1",
   "metadata": {},
   "source": [
    "> Keeps asking until the user types tony123."
   ]
  },
  {
   "cell_type": "markdown",
   "id": "b8391b32-f428-447b-9a7b-b471c8ae673e",
   "metadata": {},
   "source": [
    "## Controlling Loops: break and continue\n",
    "break stops the loop completely.\n",
    "continue skips the current iteration but keeps looping.\n",
    "\n",
    "### Example:"
   ]
  },
  {
   "cell_type": "code",
   "execution_count": 10,
   "id": "59bca691-96f0-4e74-9c2f-aca7524b59d4",
   "metadata": {
    "scrolled": true
   },
   "outputs": [
    {
     "name": "stdout",
     "output_type": "stream",
     "text": [
      "1\n",
      "2\n",
      "4\n"
     ]
    }
   ],
   "source": [
    "for num in range(1, 6):\n",
    "    if num == 3:\n",
    "        continue  # Skip number 3\n",
    "    if num == 5:\n",
    "        break     # Stop the loop at 5\n",
    "    print(num)"
   ]
  },
  {
   "cell_type": "markdown",
   "id": "f17136bc-3b47-4346-a145-d911dd896df5",
   "metadata": {},
   "source": [
    "## Mini-Challenges\n",
    "### Challenge 1:\n",
    "Use a for loop to print all even numbers from 2 to 20.\n",
    "\n",
    "### Challenge 2:\n",
    "Write a while loop that asks the user to enter a number until they type 0. Print \"Done!\" when they exit.\n",
    "\n",
    "\n",
    "## Summary\n",
    "- Loops repeat code efficiently.\n",
    "- Use for loops for iterating over sequences.\n",
    "- Use while loops when you don’t know beforehand how many times to repeat.\n",
    "- Use break to stop loops early and continue to skip to the next iteration."
   ]
  },
  {
   "cell_type": "markdown",
   "id": "eadee74a-0140-4476-86ea-69f410b12536",
   "metadata": {},
   "source": [
    "## EXERCISE 5\n",
    "Create a program that:\n",
    "1. Asks the user for a number n.\n",
    "2. Uses a for loop to calculate the sum of numbers from 1 to n.\n",
    "3. Prints the total sum."
   ]
  }
 ],
 "metadata": {
  "kernelspec": {
   "display_name": "Python 3 (ipykernel)",
   "language": "python",
   "name": "python3"
  },
  "language_info": {
   "codemirror_mode": {
    "name": "ipython",
    "version": 3
   },
   "file_extension": ".py",
   "mimetype": "text/x-python",
   "name": "python",
   "nbconvert_exporter": "python",
   "pygments_lexer": "ipython3",
   "version": "3.12.7"
  }
 },
 "nbformat": 4,
 "nbformat_minor": 5
}
