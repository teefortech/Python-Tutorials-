{
 "cells": [
  {
   "cell_type": "markdown",
   "id": "373747f4-987d-4e44-b53c-d5e0604b3cea",
   "metadata": {},
   "source": [
    "# Defining Functions in Python\n",
    "> By\n",
    "### Tony Nwuzor\n",
    "_____________________________________"
   ]
  },
  {
   "cell_type": "markdown",
   "id": "05745ca1-1c39-4576-90e3-ce71aad9a1ce",
   "metadata": {},
   "source": [
    "## 1. What is a Function?\n",
    "A function is a block of code that performs a specific task.\n",
    "It helps you avoid repeating yourself. You write code once and reuse it anytime you need it.\n",
    "\n",
    "### Syntax:"
   ]
  },
  {
   "cell_type": "markdown",
   "id": "531f06e5-7b3d-492b-adcd-4c8d36b9a45d",
   "metadata": {},
   "source": [
    "def function_name():     \n",
    "code to execute here"
   ]
  },
  {
   "cell_type": "markdown",
   "id": "b8162481-0849-4b5a-8d6c-1162a63babc4",
   "metadata": {},
   "source": [
    "### Example:"
   ]
  },
  {
   "cell_type": "code",
   "execution_count": 43,
   "id": "03223b44-af1e-4245-9635-6e2f270034bd",
   "metadata": {},
   "outputs": [],
   "source": [
    "def greet():\n",
    "    print(\"Hello, welcome to Python class!\")"
   ]
  },
  {
   "cell_type": "markdown",
   "id": "f4ee3d78-d314-4716-bebb-6e6f6425b3a6",
   "metadata": {},
   "source": [
    "To call or run the function:"
   ]
  },
  {
   "cell_type": "code",
   "execution_count": 44,
   "id": "4f6e4e66-4055-4fe5-9dd1-c86363e1118c",
   "metadata": {},
   "outputs": [
    {
     "name": "stdout",
     "output_type": "stream",
     "text": [
      "Hello, welcome to Python class!\n"
     ]
    }
   ],
   "source": [
    "greet()"
   ]
  },
  {
   "cell_type": "markdown",
   "id": "1ed5339b-5063-4620-9b37-2a86ba1cd07b",
   "metadata": {},
   "source": [
    "## 2. Parameters (Function Inputs)\n",
    "Sometimes you want a function to take in some data; that’s where parameters come in."
   ]
  },
  {
   "cell_type": "markdown",
   "id": "418940b6-325b-419b-989f-ed8d3ad1f04c",
   "metadata": {},
   "source": [
    "Parameters act like variables inside your function.\n",
    "\n",
    "### Example:"
   ]
  },
  {
   "cell_type": "code",
   "execution_count": 45,
   "id": "01f04077-97f4-4936-8b18-6833f2b4531d",
   "metadata": {},
   "outputs": [],
   "source": [
    "def greet_user(name):\n",
    "    print(\"Hello, \" + name + \"! Welcome to Python.\")"
   ]
  },
  {
   "cell_type": "markdown",
   "id": "1b9da7f1-ceef-4d45-81b2-69aedad94a81",
   "metadata": {},
   "source": [
    "Now, when you call the function:"
   ]
  },
  {
   "cell_type": "code",
   "execution_count": 46,
   "id": "dd0997c0-ea92-4fad-8b02-3035685489e1",
   "metadata": {},
   "outputs": [
    {
     "name": "stdout",
     "output_type": "stream",
     "text": [
      "Hello, Alice! Welcome to Python.\n"
     ]
    }
   ],
   "source": [
    "greet_user(\"Alice\")"
   ]
  },
  {
   "cell_type": "markdown",
   "id": "0517756a-e095-4712-95b0-6dcfcbbcf148",
   "metadata": {},
   "source": [
    "Here, \"Alice\" is the argument (the actual value passed), while name is the parameter (the placeholder inside the function)."
   ]
  },
  {
   "cell_type": "markdown",
   "id": "8560e3bb-b1c4-4677-98f5-62f5bbba038d",
   "metadata": {},
   "source": [
    "## 3. Return Values\n",
    "Sometimes, instead of just printing something, you want your function to send a result back — this is done using the return statement.\n",
    "\n",
    "### Example:"
   ]
  },
  {
   "cell_type": "code",
   "execution_count": 47,
   "id": "acf8a4f8-1b4b-4868-b1fe-280cf7913902",
   "metadata": {},
   "outputs": [],
   "source": [
    "def add_numbers(a, b):\n",
    "    return a + b"
   ]
  },
  {
   "cell_type": "markdown",
   "id": "a28453a2-df61-4d75-8f6e-d6cda07e12de",
   "metadata": {},
   "source": [
    "Now when we call:"
   ]
  },
  {
   "cell_type": "code",
   "execution_count": 48,
   "id": "ab0c2a37-0356-44e2-9678-1f6be0ee49bc",
   "metadata": {},
   "outputs": [
    {
     "name": "stdout",
     "output_type": "stream",
     "text": [
      "8\n"
     ]
    }
   ],
   "source": [
    "result = add_numbers(5, 3)\n",
    "print(result)"
   ]
  },
  {
   "cell_type": "markdown",
   "id": "6126e5bb-d393-4577-aea0-00f809eb1846",
   "metadata": {},
   "source": [
    "The keyword return sends the result (in this case, a + b) back to where the function was called."
   ]
  },
  {
   "cell_type": "markdown",
   "id": "8fad2569-b1a8-4096-a16b-a60cf4733198",
   "metadata": {},
   "source": [
    "## 4. Why Use Functions?\n",
    "- Reusability: Write code once, use it multiple times.\n",
    "- Organization: Break your program into smaller, readable sections.\n",
    "- Scalability: Easier to debug and update.\n",
    "\n",
    "### Example (Before and After Functions):\n",
    "\n",
    "Without a function:"
   ]
  },
  {
   "cell_type": "code",
   "execution_count": 49,
   "id": "4d2c576f-85ac-4b73-b231-8f0ce3fe3ab9",
   "metadata": {},
   "outputs": [
    {
     "name": "stdout",
     "output_type": "stream",
     "text": [
      "4\n",
      "9\n",
      "16\n"
     ]
    }
   ],
   "source": [
    "print(2 * 2)\n",
    "print(3 * 3)\n",
    "print(4 * 4)"
   ]
  },
  {
   "cell_type": "markdown",
   "id": "49bbac3f-3081-4add-ae9c-21ed0616f26a",
   "metadata": {},
   "source": [
    "With a function:"
   ]
  },
  {
   "cell_type": "code",
   "execution_count": 50,
   "id": "d600e544-1691-4625-a312-e1c9e7cc776d",
   "metadata": {},
   "outputs": [
    {
     "name": "stdout",
     "output_type": "stream",
     "text": [
      "4\n",
      "9\n",
      "16\n"
     ]
    }
   ],
   "source": [
    "def square(num):\n",
    "    return num * num\n",
    "\n",
    "print(square(2))\n",
    "print(square(3))\n",
    "print(square(4))"
   ]
  },
  {
   "cell_type": "markdown",
   "id": "42cb9ff6-cd3e-4150-aa33-329b6a2bb415",
   "metadata": {},
   "source": [
    "Cleaner, right? "
   ]
  },
  {
   "cell_type": "markdown",
   "id": "08ad7c06-c877-4a72-98ce-5fba97b4315d",
   "metadata": {},
   "source": [
    "## 5. Function with Multiple Parameters\n",
    "You can have more than one parameter in a function.\n",
    "\n",
    "### Example:"
   ]
  },
  {
   "cell_type": "code",
   "execution_count": 51,
   "id": "5e6c1b1c-3495-4cda-b1d0-efb0d460fd3c",
   "metadata": {},
   "outputs": [
    {
     "name": "stdout",
     "output_type": "stream",
     "text": [
      "Name: John\n",
      "Age: 20\n",
      "Course: Data Analytics\n"
     ]
    }
   ],
   "source": [
    "def student_info(name, age, course):\n",
    "    print(f\"Name: {name}\")\n",
    "    print(f\"Age: {age}\")\n",
    "    print(f\"Course: {course}\")\n",
    "\n",
    "student_info(\"John\", 20, \"Data Analytics\")"
   ]
  },
  {
   "cell_type": "markdown",
   "id": "9eb80815-48dd-4c68-84c6-9758eca5e515",
   "metadata": {},
   "source": [
    "## 6. Mini-Challenges "
   ]
  },
  {
   "cell_type": "markdown",
   "id": "90d2f34b-5422-4fe0-8061-57d66f5fad49",
   "metadata": {},
   "source": [
    "### Challenge 1\n",
    "Write a function called square_number() that takes one number and returns its square.\n"
   ]
  },
  {
   "cell_type": "markdown",
   "id": "a52ade87-6f6a-4237-97a8-215c542f25bb",
   "metadata": {},
   "source": [
    "### Challenge 2\n",
    "Write a function greet_user() that takes a name and country, and prints a personalized message like:\n",
    "Hello John from Nigeria! Welcome to Python."
   ]
  },
  {
   "cell_type": "markdown",
   "id": "51d8110e-93be-4b11-ba78-b81d95eaf105",
   "metadata": {},
   "source": [
    "### Challenge 3\n",
    "Write a function add_numbers() that takes two numbers and returns their sum."
   ]
  },
  {
   "cell_type": "markdown",
   "id": "03a3e095-0639-4d45-aebd-1fadf7f2d1b9",
   "metadata": {},
   "source": [
    "## Summary\n",
    "- A function is a reusable block of code.\n",
    "- Parameters let you pass information into the function.\n",
    "- Return values send results back to the caller.\n",
    "- Use functions to make your code clean, organized, and reusable."
   ]
  },
  {
   "cell_type": "markdown",
   "id": "c1646e46-49f2-4485-a54c-08aed7add3d9",
   "metadata": {},
   "source": [
    "## EXERCISE 09\n",
    "Create a program that:\n",
    "1. Defines a function calculate_area(length, width) that returns the area of a rectangle.\n",
    "2. Calls the function with user input values.\n",
    "3. Prints the area result nicely formatted."
   ]
  },
  {
   "cell_type": "markdown",
   "id": "8bca92c1-379e-4eb3-9bd3-8131a0780c93",
   "metadata": {},
   "source": [
    "Example output:\n",
    "\n",
    "Enter length: 10  \n",
    "Enter width: 5  \n",
    "The area of the rectangle is 50"
   ]
  },
  {
   "cell_type": "markdown",
   "id": "c474ed10-c809-4463-8077-3aa853a4a5f4",
   "metadata": {},
   "source": [
    "Share your results in the comments!\n",
    "Let’s see how many creative ways we can use functions this week. "
   ]
  }
 ],
 "metadata": {
  "kernelspec": {
   "display_name": "Python 3 (ipykernel)",
   "language": "python",
   "name": "python3"
  },
  "language_info": {
   "codemirror_mode": {
    "name": "ipython",
    "version": 3
   },
   "file_extension": ".py",
   "mimetype": "text/x-python",
   "name": "python",
   "nbconvert_exporter": "python",
   "pygments_lexer": "ipython3",
   "version": "3.12.7"
  }
 },
 "nbformat": 4,
 "nbformat_minor": 5
}
