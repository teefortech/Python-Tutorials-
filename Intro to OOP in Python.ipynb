{
 "cells": [
  {
   "cell_type": "markdown",
   "id": "313bb38a-2320-4055-b14c-115a36658bcb",
   "metadata": {},
   "source": [
    "# Introduction to Object-Oriented Programming (OOP) in Python\n",
    "> By\n",
    "### Tony Nwuzor\n",
    "_____________________________________"
   ]
  },
  {
   "cell_type": "markdown",
   "id": "da66408a-b356-4572-a625-f0beee1d7e17",
   "metadata": {},
   "source": [
    "## 1. What is OOP?\n",
    "OOP organizes code around objects, data structures combining state (attributes) and behavior (methods). It helps build modular, reusable, and maintainable programs.\n",
    "\n",
    "### Key terms:\n",
    "\n",
    "- Class: blueprint for objects.\n",
    "- Object (instance): a concrete realization of a class.\n",
    "- Attribute: data stored on an object (or class).\n",
    "- Method: function defined inside a class that operates on instances."
   ]
  },
  {
   "cell_type": "markdown",
   "id": "5581550f-80d7-4333-b1f7-fde178b08450",
   "metadata": {},
   "source": [
    "## 2. Basic class and instance example"
   ]
  },
  {
   "cell_type": "markdown",
   "id": "51881d4b-6007-4f39-9e27-b007c16b5b6d",
   "metadata": {},
   "source": [
    "### file: basic_oop.py"
   ]
  },
  {
   "cell_type": "code",
   "execution_count": 28,
   "id": "5058549e-ab1f-4deb-9222-6d092d2b05a9",
   "metadata": {},
   "outputs": [],
   "source": [
    "class Person:\n",
    "    \"\"\"Simple Person class with name and age attributes.\"\"\"\n",
    "    def __init__(self, name, age):\n",
    "        self.name = name  # instance attribute\n",
    "        self.age = age\n",
    "\n",
    "    def greet(self):\n",
    "        return f\"Hello, my name is {self.name} and I am {self.age} years old.\""
   ]
  },
  {
   "cell_type": "markdown",
   "id": "019173f4-daad-42c8-8640-eef33fffe701",
   "metadata": {},
   "source": [
    "### Usage"
   ]
  },
  {
   "cell_type": "code",
   "execution_count": 29,
   "id": "011b7472-8207-4074-8e02-b88f903fe739",
   "metadata": {},
   "outputs": [
    {
     "name": "stdout",
     "output_type": "stream",
     "text": [
      "Hello, my name is John and I am 28 years old.\n"
     ]
    }
   ],
   "source": [
    "if __name__ == \"__main__\":\n",
    "    p = Person(\"John\", 28)\n",
    "    print(p.greet())"
   ]
  },
  {
   "cell_type": "markdown",
   "id": "4b9ee750-322e-4fda-9e01-33b93075d7a5",
   "metadata": {},
   "source": [
    "`__init__` is the constructor, called when you create an instance.\n",
    "self refers to the instance.\n",
    "## 3. Class vs instance attributes"
   ]
  },
  {
   "cell_type": "code",
   "execution_count": 30,
   "id": "847c881f-3e3a-4700-a01c-950553d71c8b",
   "metadata": {},
   "outputs": [
    {
     "name": "stdout",
     "output_type": "stream",
     "text": [
      "4\n",
      "4\n",
      "3\n",
      "4\n"
     ]
    }
   ],
   "source": [
    "class Car:\n",
    "    wheels = 4  # class attribute shared by all instances\n",
    "\n",
    "    def __init__(self, make, model):\n",
    "        self.make = make   # instance attribute\n",
    "        self.model = model\n",
    "\n",
    "c1 = Car(\"Toyota\", \"Corolla\")\n",
    "c2 = Car(\"Honda\", \"Civic\")\n",
    "\n",
    "print(Car.wheels)  # 4\n",
    "print(c1.wheels)   # 4\n",
    "c1.wheels = 3      # creates instance attribute wheels on c1 only\n",
    "print(c1.wheels)   # 3\n",
    "print(c2.wheels)   # 4\n"
   ]
  },
  {
   "cell_type": "markdown",
   "id": "30c0c488-f565-4afa-bc6d-8d7f29d1cc04",
   "metadata": {},
   "source": [
    "## 4. Encapsulation (public, protected, private) and properties\n",
    "Python doesn't enforce strict private members, but naming conventions and property decorators provide control."
   ]
  },
  {
   "cell_type": "code",
   "execution_count": 31,
   "id": "e43999f8-1e9f-4157-8556-3b5c5663b6e7",
   "metadata": {},
   "outputs": [],
   "source": [
    "class BankAccount:\n",
    "    def __init__(self, owner, balance=0):\n",
    "        self.owner = owner          # public\n",
    "        self._balance = balance     # protected by convention\n",
    "        self.__pin = \"0000\"         # name-mangled private\n",
    "\n",
    "    def deposit(self, amount):\n",
    "        if amount <= 0:\n",
    "            raise ValueError(\"Deposit must be positive\")\n",
    "        self._balance += amount\n",
    "\n",
    "    def withdraw(self, amount, pin):\n",
    "        if pin != self.__pin:\n",
    "            raise PermissionError(\"Invalid PIN\")\n",
    "        if amount > self._balance:\n",
    "            raise ValueError(\"Insufficient funds\")\n",
    "        self._balance -= amount\n",
    "\n",
    "    @property\n",
    "    def balance(self):\n",
    "        return self._balance\n",
    "\n",
    "    @balance.setter\n",
    "    def balance(self, value):\n",
    "        raise AttributeError(\"Direct balance setting not allowed. Use deposit/withdraw methods.\")\n"
   ]
  },
  {
   "cell_type": "markdown",
   "id": "58d71234-bcf3-4686-be2e-6b41a77ec16b",
   "metadata": {},
   "source": [
    "### Usage"
   ]
  },
  {
   "cell_type": "code",
   "execution_count": 32,
   "id": "bbae8342-4772-4d11-8ad4-8da2b05afd9c",
   "metadata": {},
   "outputs": [
    {
     "name": "stdout",
     "output_type": "stream",
     "text": [
      "1500\n",
      "Error: Direct balance setting not allowed. Use deposit/withdraw methods.\n"
     ]
    }
   ],
   "source": [
    "if __name__ == \"__main__\":\n",
    "    acc = BankAccount(\"Emmy\", 1000)\n",
    "    acc.deposit(500)\n",
    "    print(acc.balance)  # 1500\n",
    "    try:\n",
    "        acc.balance = 2000\n",
    "    except AttributeError as e:\n",
    "        print(\"Error:\", e)"
   ]
  },
  {
   "cell_type": "markdown",
   "id": "7eb13f6a-a96f-42e5-9b0f-7ce57923f9be",
   "metadata": {},
   "source": [
    "### Notes:\n",
    "@property exposes a safe read-only interface.\n",
    "__pin is name-mangled to _BankAccount__pin — helps avoid accidental access.\n",
    "## 5. Inheritance and method overriding"
   ]
  },
  {
   "cell_type": "code",
   "execution_count": 33,
   "id": "37d76e32-8635-41c4-8ad9-3bb1af796411",
   "metadata": {},
   "outputs": [],
   "source": [
    "class Animal:\n",
    "    def __init__(self, name):\n",
    "        self.name = name\n",
    "\n",
    "    def speak(self):\n",
    "        return f\"{self.name} makes a sound.\"\n"
   ]
  },
  {
   "cell_type": "code",
   "execution_count": 34,
   "id": "2ee2019e-8309-4c64-9198-2373990bfe7d",
   "metadata": {},
   "outputs": [],
   "source": [
    "class Dog(Animal):\n",
    "    def speak(self):\n",
    "        return f\"{self.name} says woof!\"\n",
    "\n",
    "class Cat(Animal):\n",
    "    def speak(self):\n",
    "        return f\"{self.name} says meow.\""
   ]
  },
  {
   "cell_type": "markdown",
   "id": "92c58169-28b5-466b-a840-3764b8e73467",
   "metadata": {},
   "source": [
    "### Usage"
   ]
  },
  {
   "cell_type": "code",
   "execution_count": 35,
   "id": "cb3eabf3-d30c-4921-8531-dc673dd98168",
   "metadata": {},
   "outputs": [
    {
     "name": "stdout",
     "output_type": "stream",
     "text": [
      "Rex says woof!\n",
      "Luna says meow.\n"
     ]
    }
   ],
   "source": [
    "if __name__ == \"__main__\":\n",
    "    dog = Dog(\"Rex\")\n",
    "    cat = Cat(\"Luna\")\n",
    "    print(dog.speak())\n",
    "    print(cat.speak())"
   ]
  },
  {
   "cell_type": "markdown",
   "id": "a6d05577-1bd3-40e4-877a-5b5c72c24db6",
   "metadata": {},
   "source": [
    "### Notes:\n",
    "\n",
    "Dog and Cat inherit from Animal and override speak().\n",
    "## 6. super() and calling parent methods"
   ]
  },
  {
   "cell_type": "code",
   "execution_count": 36,
   "id": "3ff33ad1-e22d-4960-aa96-1a41eb1bf1f4",
   "metadata": {},
   "outputs": [],
   "source": [
    "class Employee(Person):  # reuses Person from earlier\n",
    "    def __init__(self, name, age, position):\n",
    "        super().__init__(name, age)  # call Person.__init__\n",
    "        self.position = position\n",
    "\n",
    "    def greet(self):\n",
    "        base = super().greet()\n",
    "        return f\"{base} I work as a {self.position}.\""
   ]
  },
  {
   "cell_type": "markdown",
   "id": "cd102841-55a8-414c-9c4d-09d9f963dbc7",
   "metadata": {},
   "source": [
    "### Usage"
   ]
  },
  {
   "cell_type": "code",
   "execution_count": 37,
   "id": "654bb2a2-fe27-45ed-9cdb-8b96298920c2",
   "metadata": {},
   "outputs": [
    {
     "name": "stdout",
     "output_type": "stream",
     "text": [
      "Hello, my name is Tina and I am 30 years old. I work as a Data Analyst.\n"
     ]
    }
   ],
   "source": [
    "if __name__ == \"__main__\":\n",
    "    e = Employee(\"Tina\", 30, \"Data Analyst\")\n",
    "    print(e.greet())"
   ]
  },
  {
   "cell_type": "markdown",
   "id": "a060af61-af40-4645-abd0-6e03baa68eb7",
   "metadata": {},
   "source": [
    "## 7. Classmethods and staticmethods"
   ]
  },
  {
   "cell_type": "code",
   "execution_count": 38,
   "id": "01d93595-3e10-4d73-8c1b-44328b9dfe4d",
   "metadata": {},
   "outputs": [],
   "source": [
    "class Circle:\n",
    "    pi = 3.141592653589793\n",
    "\n",
    "    def __init__(self, radius):\n",
    "        self.radius = radius\n",
    "\n",
    "    def area(self):\n",
    "        return Circle.pi * (self.radius ** 2)\n",
    "\n",
    "    @classmethod\n",
    "    def from_diameter(cls, diameter):\n",
    "        return cls(diameter / 2)\n",
    "\n",
    "    @staticmethod\n",
    "    def is_positive(value):\n",
    "        return value > 0"
   ]
  },
  {
   "cell_type": "markdown",
   "id": "49163b98-8828-4631-b3b3-5986bc4ef859",
   "metadata": {},
   "source": [
    "### Usage"
   ]
  },
  {
   "cell_type": "code",
   "execution_count": 39,
   "id": "3848b436-25d6-4046-91f9-c9acbca88e09",
   "metadata": {},
   "outputs": [
    {
     "name": "stdout",
     "output_type": "stream",
     "text": [
      "Radius: 5.0\n",
      "Area: 78.53981633974483\n",
      "Is positive?: True\n"
     ]
    }
   ],
   "source": [
    "if __name__ == \"__main__\":\n",
    "    c = Circle.from_diameter(10)\n",
    "    print(\"Radius:\", c.radius)\n",
    "    print(\"Area:\", c.area())\n",
    "    print(\"Is positive?:\", Circle.is_positive(c.radius))\n"
   ]
  },
  {
   "cell_type": "markdown",
   "id": "e9abfe4e-9671-46a0-8626-817b213153c5",
   "metadata": {},
   "source": [
    "### Notes:\n",
    "@classmethod receives the class (cls) and is often used for alternative constructors.\n",
    "@staticmethod does not receive self or cls — useful for helper functions related to the class.\n",
    "## 8. Magic methods (__str__, __repr__) and operator overloading"
   ]
  },
  {
   "cell_type": "code",
   "execution_count": 40,
   "id": "22b2a00f-86c5-46bf-8198-0ca520cb222c",
   "metadata": {},
   "outputs": [],
   "source": [
    "class Point:\n",
    "    def __init__(self, x, y):\n",
    "        self.x = x\n",
    "        self.y = y\n",
    "\n",
    "    def __repr__(self):   # developer-friendly\n",
    "        return f\"Point({self.x}, {self.y})\"\n",
    "\n",
    "    def __str__(self):    # user-friendly\n",
    "        return f\"({self.x}, {self.y})\"\n",
    "\n",
    "    def __add__(self, other):  # operator overloading for '+'\n",
    "        if not isinstance(other, Point):\n",
    "            return NotImplemented\n",
    "        return Point(self.x + other.x, self.y + other.y)"
   ]
  },
  {
   "cell_type": "markdown",
   "id": "6804a8c8-5e41-47b8-bfcc-ba904f7b4896",
   "metadata": {},
   "source": [
    "### Usage"
   ]
  },
  {
   "cell_type": "code",
   "execution_count": 41,
   "id": "56c117df-4812-44fb-9b00-dc96641def7e",
   "metadata": {},
   "outputs": [
    {
     "name": "stdout",
     "output_type": "stream",
     "text": [
      "Point(4, 6)\n",
      "(4, 6)\n"
     ]
    }
   ],
   "source": [
    "if __name__ == \"__main__\":\n",
    "    p1 = Point(1, 2)\n",
    "    p2 = Point(3, 4)\n",
    "    p3 = p1 + p2\n",
    "    print(repr(p3))  # Point(4, 6)\n",
    "    print(str(p3))   # (4, 6)\n"
   ]
  },
  {
   "cell_type": "markdown",
   "id": "061897d9-1c44-43ed-a6dd-598b33bcb0c6",
   "metadata": {},
   "source": [
    "## 9. Small end-to-end example: Contact class with simple storage (dictionary)\n",
    "This ties OOP to what we already did (contact book). It’s simple.\n",
    "\n",
    "### file: contact_class.py"
   ]
  },
  {
   "cell_type": "code",
   "execution_count": 42,
   "id": "1d1e75fc-05d3-477d-bf1c-f85b905814f5",
   "metadata": {},
   "outputs": [],
   "source": [
    "class Contact:\n",
    "    def __init__(self, name, phone, email=None):\n",
    "        self.name = name\n",
    "        self.phone = phone\n",
    "        self.email = email\n",
    "\n",
    "    def to_line(self):\n",
    "        \"\"\"Return a string suitable for saving to a file.\"\"\"\n",
    "        return f\"{self.name}|{self.phone}|{self.email or ''}\"\n",
    "\n",
    "    @classmethod\n",
    "    def from_line(cls, line):\n",
    "        parts = line.strip().split(\"|\")\n",
    "        name = parts[0]\n",
    "        phone = parts[1] if len(parts) > 1 else \"\"\n",
    "        email = parts[2] if len(parts) > 2 and parts[2] != \"\" else None\n",
    "        return cls(name, phone, email)\n",
    "\n",
    "    def __str__(self):\n",
    "        return f\"{self.name}: {self.phone}\" + (f\" ({self.email})\" if self.email else \"\")\n"
   ]
  },
  {
   "cell_type": "code",
   "execution_count": 43,
   "id": "94110263-d3e2-48bb-a407-a0786b2b7d1f",
   "metadata": {},
   "outputs": [],
   "source": [
    "class ContactBook:\n",
    "    def __init__(self):\n",
    "        self._contacts = {}  # name -> Contact\n",
    "\n",
    "    def add(self, contact):\n",
    "        self._contacts[contact.name] = contact\n",
    "\n",
    "    def remove(self, name):\n",
    "        return self._contacts.pop(name, None)\n",
    "\n",
    "    def get(self, name):\n",
    "        return self._contacts.get(name)\n",
    "\n",
    "    def all_contacts(self):\n",
    "        return list(self._contacts.values())\n",
    "\n",
    "    def save_to_file(self, filename):\n",
    "        with open(filename, \"w\", encoding=\"utf-8\") as f:\n",
    "            for contact in self._contacts.values():\n",
    "                f.write(contact.to_line() + \"\\n\")\n",
    "\n",
    "    def load_from_file(self, filename):\n",
    "        try:\n",
    "            with open(filename, \"r\", encoding=\"utf-8\") as f:\n",
    "                for line in f:\n",
    "                    if line.strip():\n",
    "                        contact = Contact.from_line(line)\n",
    "                        self.add(contact)\n",
    "        except FileNotFoundError:\n",
    "            # Start with empty list if file doesn't exist\n",
    "            pass\n",
    "            "
   ]
  },
  {
   "cell_type": "markdown",
   "id": "51e959bb-af96-4e40-9b05-d68b790f6475",
   "metadata": {},
   "source": [
    "### Usage demo"
   ]
  },
  {
   "cell_type": "code",
   "execution_count": 44,
   "id": "d3899179-10ea-4593-9dee-ebb026a538f1",
   "metadata": {},
   "outputs": [
    {
     "name": "stdout",
     "output_type": "stream",
     "text": [
      "Alice: 08120000000 (alice@example.com)\n",
      "Bob: 08030000000\n",
      "Jenny: 08120000000 (jenny@example.com)\n",
      "Tom: 08030000000\n"
     ]
    }
   ],
   "source": [
    "if __name__ == \"__main__\":\n",
    "    book = ContactBook()\n",
    "    # load existing contacts (if file exists)\n",
    "    book.load_from_file(\"contacts_db.txt\")\n",
    "\n",
    "    # add two sample contacts\n",
    "    book.add(Contact(\"Jenny\", \"08120000000\", \"jenny@example.com\"))\n",
    "    book.add(Contact(\"Tom\", \"08030000000\"))\n",
    "\n",
    "    # show all contacts\n",
    "    for c in book.all_contacts():\n",
    "        print(c)\n",
    "\n",
    "    # save contacts\n",
    "    book.save_to_file(\"contacts_db.txt\")"
   ]
  },
  {
   "cell_type": "markdown",
   "id": "345ebd22-d7a7-4bba-88a2-8600de21a4b8",
   "metadata": {},
   "source": [
    "The saved file contacts_db.txt will contain lines like:\n",
    "\n",
    "Alice|08120000000|alice@example.com\n",
    "Bob|08030000000|\n",
    "Jenny|08120000000|jenny@example.com\n",
    "Tom|08030000000|\n"
   ]
  },
  {
   "cell_type": "markdown",
   "id": "6a5a9b90-1586-4feb-968b-ca93ee873385",
   "metadata": {},
   "source": [
    "## 10. Best practices\n",
    "- Keep classes focused (single responsibility principle).\n",
    "- Use properties to control access to attributes.\n",
    "- Prefer composition over deep inheritance when possible.\n",
    "- Name private attributes with a single leading underscore for convention; use double underscore only when you want name mangling.\n",
    "- Add docstrings to classes and public methods.\n",
    "\n",
    "## 11. Mini-challenges and exercises\n",
    "1. Create a Student class\n",
    "\n",
    "- Attributes: name, scores (list of numbers)\n",
    "- Methods: add_score(score), average() that returns the average score, letter_grade() returning A/B/C/D/F using average.\n",
    "- Include `__str__` to print nicely.\n",
    "- Extend the Point class\n",
    "\n",
    "2. Add distance_to(other) method returning Euclidean distance.\n",
    "- Add support for subtraction via `__sub__`\n",
    "- ContactBook CLI\n",
    "\n",
    "3. Expand ContactBook with a small menu to add, view, search, delete contacts (use input). Persist to file. Handle invalid entries gracefully.\n",
    "\n",
    "4. Practice inheritance\n",
    "\n",
    "- Create Shape base class with area() method (raise NotImplementedError) and perimeter() method.\n",
    "- Implement Rectangle and Circle subclasses that provide actual implementations.\n"
   ]
  },
  {
   "cell_type": "markdown",
   "id": "90ab4847-98a4-46c8-bbfb-7dfdbffe6ac6",
   "metadata": {},
   "source": [
    "## 12. EXERCISE\n",
    "Implement and test the Student class described above with at least three students and print each student’s average and letter grade."
   ]
  }
 ],
 "metadata": {
  "kernelspec": {
   "display_name": "Python 3 (ipykernel)",
   "language": "python",
   "name": "python3"
  },
  "language_info": {
   "codemirror_mode": {
    "name": "ipython",
    "version": 3
   },
   "file_extension": ".py",
   "mimetype": "text/x-python",
   "name": "python",
   "nbconvert_exporter": "python",
   "pygments_lexer": "ipython3",
   "version": "3.12.7"
  }
 },
 "nbformat": 4,
 "nbformat_minor": 5
}
