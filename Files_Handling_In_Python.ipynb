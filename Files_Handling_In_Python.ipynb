{
 "cells": [
  {
   "cell_type": "markdown",
   "id": "cd32f74d-7668-44b9-bf87-4954231e03d5",
   "metadata": {},
   "source": [
    "#  File Handling in Python \n",
    "> By\n",
    "### Tony Nwuzor\n",
    "_____________________________________"
   ]
  },
  {
   "cell_type": "markdown",
   "id": "489edabd-f1c3-4569-89ad-a3f5e84cdea7",
   "metadata": {},
   "source": [
    "## What Is File Handling?\n",
    "File handling means working with files stored on your computer, opening, reading, writing, and closing them. It is what makes your programs practical. From saving user info to processing data files.\n",
    "Python makes file handling simple and efficient through built-in functions.\n",
    "\n",
    "## Why File Handling Is Important\n",
    "- To save user data permanently\n",
    "- To process large amounts of data stored in files\n",
    "- To read configurations, reports, or logs\n",
    "- To automate tasks like reading CSV files or generating text outputs"
   ]
  },
  {
   "cell_type": "markdown",
   "id": "49a63965-54c6-47da-a413-df9f4c8fe111",
   "metadata": {},
   "source": [
    "## Basic File Operations\n",
    "Python provides a built-in function called open() to access files."
   ]
  },
  {
   "cell_type": "markdown",
   "id": "58dd6aae-7ed2-492e-a4ef-f86a0f214f21",
   "metadata": {},
   "source": [
    "The syntax is:"
   ]
  },
  {
   "cell_type": "code",
   "execution_count": null,
   "id": "f43d1e53-22ca-4c22-abed-a126295750f0",
   "metadata": {},
   "outputs": [],
   "source": [
    "open(\"filename\", \"mode\")"
   ]
  },
  {
   "cell_type": "markdown",
   "id": "35df6ecd-e024-4b4a-805d-7a42eb5e7ddc",
   "metadata": {},
   "source": [
    "The mode tells Python what you want to do with the file."
   ]
  },
  {
   "cell_type": "markdown",
   "id": "26aa63ba-c8cc-4a56-9a7a-397204407ef8",
   "metadata": {},
   "source": [
    "| Mode | Description |\n",
    "|-------|-------------|\n",
    "| 'r'\t| Read (default mode). Opens file for reading |\n",
    "| 'w'\t| Write. Creates a new file or overwrites an existing one|\n",
    "| 'a'\t| Append. Adds new data to the end of the file |\n",
    "| 'r+'\t| Read and write |"
   ]
  },
  {
   "cell_type": "markdown",
   "id": "8bf358e2-58ef-44b3-931e-b030d21b245f",
   "metadata": {},
   "source": [
    "### Example 1: Writing to a File"
   ]
  },
  {
   "cell_type": "code",
   "execution_count": null,
   "id": "bd49a626-01ec-484d-bed1-509755e8abfa",
   "metadata": {},
   "outputs": [],
   "source": [
    "file = open(\"notes.txt\", \"w\")\n",
    "file.write(\"Hello, this is my first file in Python!\")\n",
    "file.close()"
   ]
  },
  {
   "cell_type": "markdown",
   "id": "63921200-23d3-4076-84b2-394860155663",
   "metadata": {},
   "source": [
    "This creates a new file named notes.txt and writes the text inside it."
   ]
  },
  {
   "cell_type": "markdown",
   "id": "68d62169-4a65-4444-810d-f19e2e8f2c7f",
   "metadata": {},
   "source": [
    "### Example 2: Reading from a File"
   ]
  },
  {
   "cell_type": "code",
   "execution_count": 23,
   "id": "d7139369-3ff9-4730-9476-44eee26f3601",
   "metadata": {},
   "outputs": [
    {
     "name": "stdout",
     "output_type": "stream",
     "text": [
      "Hello, this is my first file in Python!\n"
     ]
    }
   ],
   "source": [
    "file = open(\"notes.txt\", \"r\")\n",
    "content = file.read()\n",
    "print(content)\n",
    "file.close()"
   ]
  },
  {
   "cell_type": "markdown",
   "id": "c511345b-ee84-490c-b8b7-c50b9a66e2f5",
   "metadata": {},
   "source": [
    "This opens notes.txt, reads its content, and prints it to the screen.\n",
    "\n",
    "### Example 3: Appending to a File"
   ]
  },
  {
   "cell_type": "code",
   "execution_count": 24,
   "id": "5fbf9628-44c5-4a39-a09f-e79842a30fd0",
   "metadata": {},
   "outputs": [],
   "source": [
    "file = open(\"notes.txt\", \"a\")\n",
    "file.write(\"\\nThis line was added later.\")\n",
    "file.close()"
   ]
  },
  {
   "cell_type": "markdown",
   "id": "9a3fa111-81bd-47af-9dbd-7f8d7a12bf38",
   "metadata": {},
   "source": [
    "This keeps the existing data and adds new text at the end.\n",
    "\n",
    "Using with open() for Better File Handling\n",
    "The with statement automatically handles closing the file for you.\n",
    "It’s the recommended way to work with files."
   ]
  },
  {
   "cell_type": "code",
   "execution_count": 25,
   "id": "b23d87ce-d953-40a6-95a6-7c8dfab14520",
   "metadata": {},
   "outputs": [
    {
     "name": "stdout",
     "output_type": "stream",
     "text": [
      "Hello, this is my first file in Python!\n",
      "This line was added later.\n"
     ]
    }
   ],
   "source": [
    "with open(\"notes.txt\", \"r\") as file:\n",
    "    content = file.read()\n",
    "    print(content)"
   ]
  },
  {
   "cell_type": "markdown",
   "id": "cc3dbb57-ea10-426d-beb7-214aac1bb905",
   "metadata": {},
   "source": [
    "## Practical Tip\n",
    "If you try to read a file that does not exist, Python will raise an error.\n",
    "Always make sure the file exists, or handle exceptions using try and except.\n",
    "\n",
    "### Example:"
   ]
  },
  {
   "cell_type": "code",
   "execution_count": 26,
   "id": "40e27db3-8396-4d38-9ae0-9c30c106f0f5",
   "metadata": {},
   "outputs": [
    {
     "name": "stdout",
     "output_type": "stream",
     "text": [
      "The file does not exist.\n"
     ]
    }
   ],
   "source": [
    "try:\n",
    "    with open(\"missing.txt\", \"r\") as f:\n",
    "        print(f.read())\n",
    "except FileNotFoundError:\n",
    "    print(\"The file does not exist.\")"
   ]
  },
  {
   "cell_type": "markdown",
   "id": "a08ccf21-3012-4ece-9aac-064b72e62e5f",
   "metadata": {},
   "source": [
    "## Your Practice Task 1 \n",
    "1. Create a text file named contacts.txt\n",
    "2. Write three names and phone numbers into the file\n",
    "3. Read and display the content in the console\n",
    "4. Add one more contact without deleting the existing ones"
   ]
  },
  {
   "cell_type": "markdown",
   "id": "d414e501-0970-41fb-b18d-4f1795d9d1b4",
   "metadata": {},
   "source": [
    "## More Example\n",
    "Building a Simple Contact Saver"
   ]
  },
  {
   "cell_type": "markdown",
   "id": "2e96cee1-4ec9-4ef9-b759-fcb88ee1cc7f",
   "metadata": {},
   "source": [
    "### Writing contacts to a file"
   ]
  },
  {
   "cell_type": "code",
   "execution_count": 27,
   "id": "55f3b2f2-dcca-4c9b-bcf4-ea169316ce06",
   "metadata": {},
   "outputs": [],
   "source": [
    "file = open(\"contacts.txt\", \"w\")\n",
    "\n",
    "file.write(\"John: 08123456789\\n\")\n",
    "\n",
    "file.write(\"Mary: 09012345678\\n\")\n",
    "\n",
    "file.write(\"Paul: 07098765432\\n\")\n",
    "\n",
    "file.close()"
   ]
  },
  {
   "cell_type": "markdown",
   "id": "f70221a9-e070-400b-ad2c-c9b0c32672ee",
   "metadata": {},
   "source": [
    "### Reading the saved contacts"
   ]
  },
  {
   "cell_type": "code",
   "execution_count": 28,
   "id": "9d122074-1685-4f53-ba2e-26ffd6bad9fc",
   "metadata": {},
   "outputs": [
    {
     "name": "stdout",
     "output_type": "stream",
     "text": [
      "Contact List:\n",
      "John: 08123456789\n",
      "Mary: 09012345678\n",
      "Paul: 07098765432\n",
      "\n"
     ]
    }
   ],
   "source": [
    "file = open(\"contacts.txt\", \"r\")\n",
    "\n",
    "content = file.read()\n",
    "\n",
    "print(\"Contact List:\")\n",
    "\n",
    "print(content)\n",
    "\n",
    "file.close()"
   ]
  },
  {
   "cell_type": "markdown",
   "id": "f7115ea9-c75f-43ce-a34e-dd928ad67531",
   "metadata": {},
   "source": [
    "### Appending a new contact"
   ]
  },
  {
   "cell_type": "code",
   "execution_count": 29,
   "id": "d6ef361f-5d5d-458c-b006-57a8dc144c94",
   "metadata": {},
   "outputs": [],
   "source": [
    "file = open(\"contacts.txt\", \"a\")\n",
    "\n",
    "file.write(\"Grace: 08056781234\\n\")\n",
    "\n",
    "file.close()\n"
   ]
  },
  {
   "cell_type": "markdown",
   "id": "2eed6bf3-703d-41c6-b0b0-c5b3ad185d9e",
   "metadata": {},
   "source": [
    "### Reading again to confirm the new contact"
   ]
  },
  {
   "cell_type": "code",
   "execution_count": 30,
   "id": "b99776b5-37e5-4d77-80d2-07cc0137bbc9",
   "metadata": {
    "scrolled": true
   },
   "outputs": [
    {
     "name": "stdout",
     "output_type": "stream",
     "text": [
      "Updated Contact List:\n",
      "John: 08123456789\n",
      "Mary: 09012345678\n",
      "Paul: 07098765432\n",
      "Grace: 08056781234\n",
      "\n"
     ]
    }
   ],
   "source": [
    "with open(\"contacts.txt\", \"r\") as file:\n",
    "\n",
    "    updated = file.read()\n",
    "\n",
    "    print(\"Updated Contact List:\")\n",
    "\n",
    "    print(updated)"
   ]
  },
  {
   "cell_type": "markdown",
   "id": "4c0742d0-15a2-4211-9c0d-5684a74d9b3b",
   "metadata": {},
   "source": [
    "## Your Practice Task 2\n",
    "\n",
    "Try creating your own contact list and test these:\n",
    "1. Add more contacts.\n",
    "2. Display only names or numbers.\n",
    "3. Handle the case where the file does not exist using try and except.\n"
   ]
  }
 ],
 "metadata": {
  "kernelspec": {
   "display_name": "Python 3 (ipykernel)",
   "language": "python",
   "name": "python3"
  },
  "language_info": {
   "codemirror_mode": {
    "name": "ipython",
    "version": 3
   },
   "file_extension": ".py",
   "mimetype": "text/x-python",
   "name": "python",
   "nbconvert_exporter": "python",
   "pygments_lexer": "ipython3",
   "version": "3.12.7"
  }
 },
 "nbformat": 4,
 "nbformat_minor": 5
}
