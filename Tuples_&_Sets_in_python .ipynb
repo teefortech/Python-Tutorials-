{
 "cells": [
  {
   "cell_type": "markdown",
   "id": "cd32f74d-7668-44b9-bf87-4954231e03d5",
   "metadata": {},
   "source": [
    "#  Tuples & Sets in Python\n",
    "> By\n",
    "### Tony Nwuzor\n",
    "_____________________________________"
   ]
  },
  {
   "cell_type": "markdown",
   "id": "0a606420-9406-42e8-8330-4bc50c1a3c24",
   "metadata": {},
   "source": [
    "## 1. Tuples\n",
    "A tuple is like a list, but immutable (cannot be changed after creation).\n",
    "\n",
    "- It is ordered \n",
    "- Allows duplicates \n",
    "- Immutable (cannot modify once created)\n",
    "### Creating a Tuple:"
   ]
  },
  {
   "cell_type": "code",
   "execution_count": 14,
   "id": "346476db-5a2f-480e-993d-e4e2d111fe90",
   "metadata": {},
   "outputs": [],
   "source": [
    "fruits = (\"apple\", \"banana\", \"cherry\")\n",
    "numbers = (10, 20, 30)"
   ]
  },
  {
   "cell_type": "markdown",
   "id": "eca2d223-3eaf-46fd-80d7-818fcc664a1e",
   "metadata": {},
   "source": [
    "### Accessing Items:"
   ]
  },
  {
   "cell_type": "code",
   "execution_count": 15,
   "id": "d2125332-70bb-44d1-b2af-ccc530901406",
   "metadata": {},
   "outputs": [
    {
     "name": "stdout",
     "output_type": "stream",
     "text": [
      "apple\n",
      "cherry\n"
     ]
    }
   ],
   "source": [
    "print(fruits[0])   # apple\n",
    "print(fruits[-1])  # cherry"
   ]
  },
  {
   "cell_type": "markdown",
   "id": "f5008843-0419-4df1-a1d5-11342f76c66b",
   "metadata": {},
   "source": [
    "### Use Case:\n",
    "When you want to store fixed data that should not change (e.g., coordinates, constants, database records)."
   ]
  },
  {
   "cell_type": "markdown",
   "id": "502a089d-e4e4-40ad-9dd5-92d35e313376",
   "metadata": {},
   "source": [
    "## 2. Sets\n",
    "A set is an unordered collection of unique items.\n",
    "\n",
    "- Unordered \n",
    "- No duplicates \n",
    "- Mutable (you can add/remove items)\n",
    "### Creating a Set:"
   ]
  },
  {
   "cell_type": "code",
   "execution_count": 16,
   "id": "da395565-15b5-4b57-9ffc-a78b408faeea",
   "metadata": {},
   "outputs": [
    {
     "name": "stdout",
     "output_type": "stream",
     "text": [
      "{1, 2, 3, 4, 5}\n"
     ]
    }
   ],
   "source": [
    "numbers = {1, 2, 3, 4, 4, 5}\n",
    "print(numbers)  # {1, 2, 3, 4, 5}  (duplicates removed)"
   ]
  },
  {
   "cell_type": "markdown",
   "id": "f1ffaa50-c3ac-47db-8dbe-724ee14a576a",
   "metadata": {},
   "source": [
    "### Adding & Removing:"
   ]
  },
  {
   "cell_type": "code",
   "execution_count": 17,
   "id": "75829b76-9161-4b97-bc71-ac3bf6b85a5c",
   "metadata": {},
   "outputs": [
    {
     "name": "stdout",
     "output_type": "stream",
     "text": [
      "{1, 3, 4, 5, 6}\n"
     ]
    }
   ],
   "source": [
    "numbers.add(6)\n",
    "numbers.remove(2)\n",
    "print(numbers)  # {1, 3, 4, 5, 6}"
   ]
  },
  {
   "cell_type": "markdown",
   "id": "0920e6fe-16e1-4832-b633-7b56b0350db4",
   "metadata": {},
   "source": [
    "### Use Case:\n",
    "\n",
    "When you want to avoid duplicates (e.g., storing unique student IDs, email addresses).\n",
    "Useful for set operations like union, intersection, and difference.\n",
    "### Example – Set Operations:"
   ]
  },
  {
   "cell_type": "code",
   "execution_count": 18,
   "id": "e40de42b-683d-42f8-8fba-e61883dc1823",
   "metadata": {},
   "outputs": [],
   "source": [
    "A = {1, 2, 3, 4}\n",
    "B = {3, 4, 5, 6}"
   ]
  },
  {
   "cell_type": "code",
   "execution_count": 19,
   "id": "f4614151-b401-422a-87a1-8d14b31b83dc",
   "metadata": {},
   "outputs": [
    {
     "name": "stdout",
     "output_type": "stream",
     "text": [
      "{1, 2, 3, 4, 5, 6}\n",
      "{3, 4}\n",
      "{1, 2}\n"
     ]
    }
   ],
   "source": [
    "print(A | B)  # Union → {1, 2, 3, 4, 5, 6}\n",
    "print(A & B)  # Intersection → {3, 4}\n",
    "print(A - B)  # Difference → {1, 2}"
   ]
  },
  {
   "cell_type": "markdown",
   "id": "5b49c48f-2c30-46e5-88f7-ed40ae732b13",
   "metadata": {},
   "source": [
    "## 3. Tuples vs Sets vs Lists – Quick Comparison"
   ]
  },
  {
   "cell_type": "markdown",
   "id": "643f048c-2186-426e-b6bd-8858e169fd75",
   "metadata": {},
   "source": [
    "| Feature\t| List\t| Tuple |\tSet  |\n",
    "|-----------|-------|-------|--------|\n",
    "| Order\t    | Ordered |\tOrdered | Unordered |\n",
    "| Duplicates| Allowed |\tAllowed\t| Not Allowed |\n",
    "| Mutable\t| Yes | No\t| Yes     |\n",
    "| Use Case\t| General storage |\tFixed data | Unique items, math sets |"
   ]
  },
  {
   "cell_type": "markdown",
   "id": "46544c28-4b8b-4e49-bb8a-b73bf819d4e9",
   "metadata": {},
   "source": [
    "## 4. Mini-Challenges\n",
    "### Challenge 1 – Tuples\n",
    "- Create a tuple with 5 countries\n",
    "- Print the first, last, and a slice of the middle 3\n",
    "\n",
    "### Challenge 2 – Sets\n",
    "Create a set of numbers {1,2,3,4} and another {3,4,5,6}\n",
    "\n",
    "- Print their union\n",
    "- Print their intersection\n",
    "- Print the difference (A-B)\n",
    "\n",
    "## Summary\n",
    "- Tuples = ordered, immutable, allow duplicates (good for fixed collections).\n",
    "- Sets = unordered, mutable, no duplicates (good for uniqueness and set operations).\n",
    "- Lists, Tuples, and Sets serve different real-life purposes. Choose wisely! \n",
    "## EXERCISE 7\n",
    "Write a Python program that:\n",
    "1. Stores your birth date (day, month, year) as a tuple.\n",
    "2. Stores your favorite subjects as a set (ensure no duplicates).\n",
    "3.  Prints both."
   ]
  }
 ],
 "metadata": {
  "kernelspec": {
   "display_name": "Python 3 (ipykernel)",
   "language": "python",
   "name": "python3"
  },
  "language_info": {
   "codemirror_mode": {
    "name": "ipython",
    "version": 3
   },
   "file_extension": ".py",
   "mimetype": "text/x-python",
   "name": "python",
   "nbconvert_exporter": "python",
   "pygments_lexer": "ipython3",
   "version": "3.12.7"
  }
 },
 "nbformat": 4,
 "nbformat_minor": 5
}
