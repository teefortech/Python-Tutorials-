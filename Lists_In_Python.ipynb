{
 "cells": [
  {
   "cell_type": "markdown",
   "id": "cd32f74d-7668-44b9-bf87-4954231e03d5",
   "metadata": {},
   "source": [
    "# Lists in Python\n",
    "> By\n",
    "### Tony Nwuzor\n",
    "_____________________________________"
   ]
  },
  {
   "cell_type": "markdown",
   "id": "e210a471-cd99-4dac-965a-512aa5d3d285",
   "metadata": {},
   "source": [
    "## 1. Creating a List:"
   ]
  },
  {
   "cell_type": "code",
   "execution_count": 9,
   "id": "f16f5a73-d035-4a1c-8aab-c8879707a7c8",
   "metadata": {},
   "outputs": [],
   "source": [
    "fruits = [\"apple\", \"banana\", \"cherry\"]\n",
    "numbers = [10, 20, 30, 40]\n",
    "mixed = [1, \"Hello\", True, 3.5]"
   ]
  },
  {
   "cell_type": "markdown",
   "id": "5df0dcd6-00b4-40a1-a54e-a76d21af89fd",
   "metadata": {},
   "source": [
    "## 2. Accessing List Items (Indexing)\n",
    "Python uses zero-based indexing: \n",
    "- the first item is index 0.\n",
    "- Use square brackets [] to access an element.\n",
    "### Example:"
   ]
  },
  {
   "cell_type": "code",
   "execution_count": 10,
   "id": "0408f73f-1295-4521-8eb5-4034bedca784",
   "metadata": {},
   "outputs": [
    {
     "name": "stdout",
     "output_type": "stream",
     "text": [
      "apple\n",
      "cherry\n"
     ]
    }
   ],
   "source": [
    "fruits = [\"apple\", \"banana\", \"cherry\"]\n",
    "print(fruits[0])  # Output: apple\n",
    "print(fruits[2])  # Output: cherry"
   ]
  },
  {
   "cell_type": "markdown",
   "id": "7412ab56-9d42-4aab-9b3b-5b5be64c3265",
   "metadata": {},
   "source": [
    "### Negative Indexing: Count from the end using negative numbers."
   ]
  },
  {
   "cell_type": "code",
   "execution_count": 11,
   "id": "fb91e6e0-3159-4832-b23b-9bfe1fabaeb1",
   "metadata": {},
   "outputs": [
    {
     "name": "stdout",
     "output_type": "stream",
     "text": [
      "cherry\n"
     ]
    }
   ],
   "source": [
    "print(fruits[-1])  # Output: cherry"
   ]
  },
  {
   "cell_type": "markdown",
   "id": "7377c995-ddf7-40a3-82ad-59a1024e8c58",
   "metadata": {},
   "source": [
    "## 3. Slicing Lists\n",
    "Slicing lets you grab parts of a list using [start:end].\n",
    "\n",
    "The slice includes start but excludes end.\n",
    "### Example:"
   ]
  },
  {
   "cell_type": "code",
   "execution_count": 5,
   "id": "fe972000-e645-4476-89cd-5d36e681b70e",
   "metadata": {},
   "outputs": [
    {
     "name": "stdout",
     "output_type": "stream",
     "text": [
      "[20, 30, 40]\n",
      "[10, 20, 30]\n",
      "[30, 40, 50]\n",
      "[30, 40, 50]\n"
     ]
    }
   ],
   "source": [
    "numbers = [10, 20, 30, 40, 50]\n",
    "print(numbers[1:4])   # Output: [20, 30, 40]\n",
    "print(numbers[:3])    # Output: [10, 20, 30]\n",
    "print(numbers[2:])    # Output: [30, 40, 50]\n",
    "print(numbers[-3:])   # Output: [30, 40, 50]"
   ]
  },
  {
   "cell_type": "markdown",
   "id": "51e800c3-2841-4f06-ba60-42fa94a68674",
   "metadata": {},
   "source": [
    "## 4. Common List Methods\n",
    "Lists have built-in methods for easy manipulation:\n",
    "### Method\tDescription\tExample\n",
    "append(item)\tAdds an item to the end of the list\t"
   ]
  },
  {
   "cell_type": "code",
   "execution_count": 15,
   "id": "cd6eaffa-6534-4d66-98b3-ff1e768fd4f6",
   "metadata": {},
   "outputs": [],
   "source": [
    "fruits.append(\"orange\")"
   ]
  },
  {
   "cell_type": "markdown",
   "id": "a4ed5e14-72f7-4dd8-817c-3991941fd44f",
   "metadata": {},
   "source": [
    "insert(pos, x)\tInserts item at a specific position\t"
   ]
  },
  {
   "cell_type": "code",
   "execution_count": 16,
   "id": "321a35dc-a901-44d6-89d8-d15544739d9f",
   "metadata": {},
   "outputs": [],
   "source": [
    "fruits.insert(1, \"grape\")"
   ]
  },
  {
   "cell_type": "markdown",
   "id": "fcdba1c5-14a2-4942-b31e-420d91debb56",
   "metadata": {},
   "source": [
    "remove(item)\tRemoves the first occurrence of item\t"
   ]
  },
  {
   "cell_type": "code",
   "execution_count": 17,
   "id": "7ba9a416-7d17-4ee7-92ef-fac710cf8de4",
   "metadata": {},
   "outputs": [],
   "source": [
    "fruits.remove(\"banana\")"
   ]
  },
  {
   "cell_type": "markdown",
   "id": "e51f9a2a-ea19-489e-a9cd-50dbec6aa700",
   "metadata": {},
   "source": [
    "pop()\tRemoves and returns the last item\t"
   ]
  },
  {
   "cell_type": "code",
   "execution_count": 18,
   "id": "77d51c3f-e84d-4c33-bdbc-9fdb5a8914e9",
   "metadata": {},
   "outputs": [
    {
     "data": {
      "text/plain": [
       "'orange'"
      ]
     },
     "execution_count": 18,
     "metadata": {},
     "output_type": "execute_result"
    }
   ],
   "source": [
    "fruits.pop()"
   ]
  },
  {
   "cell_type": "markdown",
   "id": "166903ad-803f-427a-916f-b02404e5dfa6",
   "metadata": {},
   "source": [
    "sort()\tSorts the list in ascending order\t"
   ]
  },
  {
   "cell_type": "code",
   "execution_count": 19,
   "id": "98f4412a-23a7-42ef-a1e6-6c855b23fa08",
   "metadata": {},
   "outputs": [],
   "source": [
    "numbers.sort()"
   ]
  },
  {
   "cell_type": "markdown",
   "id": "dfc2edb4-5fe8-414d-9c9c-dc4309766ce1",
   "metadata": {},
   "source": [
    "reverse()\tReverses the list order\t"
   ]
  },
  {
   "cell_type": "code",
   "execution_count": 20,
   "id": "4cc8f84c-7851-45a0-98e7-ea93d62a8229",
   "metadata": {},
   "outputs": [],
   "source": [
    "fruits.reverse()"
   ]
  },
  {
   "cell_type": "markdown",
   "id": "efcf7b54-6f02-4fbc-927d-c1eda45e77b2",
   "metadata": {},
   "source": [
    "len()\tGets the length of the list\t"
   ]
  },
  {
   "cell_type": "code",
   "execution_count": 21,
   "id": "189d82e9-f904-45ff-b5a8-57309da6f1c4",
   "metadata": {},
   "outputs": [
    {
     "data": {
      "text/plain": [
       "4"
      ]
     },
     "execution_count": 21,
     "metadata": {},
     "output_type": "execute_result"
    }
   ],
   "source": [
    "len(fruits)"
   ]
  },
  {
   "cell_type": "markdown",
   "id": "7d45d321-db27-4e49-bf50-dfa0911534a3",
   "metadata": {},
   "source": [
    "### Example:"
   ]
  },
  {
   "cell_type": "code",
   "execution_count": null,
   "id": "6e0346d8-4751-4689-973d-b9944d913616",
   "metadata": {},
   "outputs": [],
   "source": [
    "fruits = [\"apple\", \"banana\", \"cherry\"]\n",
    "fruits.append(\"orange\")\n",
    "print(fruits)  # ['apple', 'banana', 'cherry', 'orange']"
   ]
  },
  {
   "cell_type": "code",
   "execution_count": null,
   "id": "78102bad-763b-4a2e-aff0-ba426f5dbedc",
   "metadata": {},
   "outputs": [],
   "source": [
    "fruits.remove(\"banana\")\n",
    "print(fruits)  # ['apple', 'cherry', 'orange']"
   ]
  },
  {
   "cell_type": "markdown",
   "id": "b4bded05-fd8f-4a1c-8ae3-475c4f1cb66b",
   "metadata": {
    "jp-MarkdownHeadingCollapsed": true
   },
   "source": [
    "## 5. Mini-Challenges\n",
    "### Challenge 1:\n",
    "Create a list of your 5 favorite movies. \n",
    "- Print the first, third, and last movie using indexing.\n",
    "\n",
    "### Challenge 2:\n",
    "Create a list of numbers [5, 2, 9, 1, 7]\n",
    "\n",
    "- Sort the list\n",
    "- Add 10 to the end.\n",
    "- Remove 2\n",
    "- Print the updated list\n",
    "\n",
    "## Summary\n",
    "- Lists hold multiple values in one variable.\n",
    "- Use indexing to access items (0 for the first item, -1 for the last)\n",
    "- Use slicing to grab parts of a list (list[start:end])\n",
    "- Master common methods like append(), insert(), remove(), sort(), and len()"
   ]
  },
  {
   "cell_type": "markdown",
   "id": "8f68fca9-bff3-4b4f-b59c-b5c326d739d1",
   "metadata": {},
   "source": [
    "## EXERCISE 6\n",
    "Create a Python program that:\n",
    "1. Asks the user to input 3 favorite foods.\n",
    "2. Stores them in a list.\n",
    "3. Prints:\n",
    "\n",
    "- The complete list\n",
    "- The first food\n",
    "- The list in reverse order"
   ]
  }
 ],
 "metadata": {
  "kernelspec": {
   "display_name": "Python 3 (ipykernel)",
   "language": "python",
   "name": "python3"
  },
  "language_info": {
   "codemirror_mode": {
    "name": "ipython",
    "version": 3
   },
   "file_extension": ".py",
   "mimetype": "text/x-python",
   "name": "python",
   "nbconvert_exporter": "python",
   "pygments_lexer": "ipython3",
   "version": "3.12.7"
  }
 },
 "nbformat": 4,
 "nbformat_minor": 5
}
